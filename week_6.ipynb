{
  "nbformat": 4,
  "nbformat_minor": 0,
  "metadata": {
    "colab": {
      "name": "week_6.ipynb",
      "provenance": [],
      "authorship_tag": "ABX9TyO/EmeE/9LJ4boDVnssqTis",
      "include_colab_link": true
    },
    "kernelspec": {
      "name": "python3",
      "display_name": "Python 3"
    },
    "language_info": {
      "name": "python"
    }
  },
  "cells": [
    {
      "cell_type": "markdown",
      "metadata": {
        "id": "view-in-github",
        "colab_type": "text"
      },
      "source": [
        "<a href=\"https://colab.research.google.com/github/Lydia-HMLin118/chihlee_110_IMS/blob/main/week_6.ipynb\" target=\"_parent\"><img src=\"https://colab.research.google.com/assets/colab-badge.svg\" alt=\"Open In Colab\"/></a>"
      ]
    },
    {
      "cell_type": "markdown",
      "metadata": {
        "id": "SLfdXcydZU1M"
      },
      "source": [
        "\n",
        "# list comprehension 列表推導式 的應用\n",
        "\n",
        "list comprehension是在Python中對於list型態的獨特用法，中文又可以稱為列表推導式。\n",
        "\n",
        "列表推導式是list與迴圈、判斷式的結合應用，迴圈以及條件判斷句可以參考本章的其他技巧，使用列表推導式的語法如下：\n",
        "       \n",
        "```\n",
        " [ 運算式 for 指定元素名稱 in 指定的列表 ]\n",
        "\n",
        "```\n",
        "\n",
        "列表推導式是能夠透過簡短的程式碼，將一個list轉換為另一個list，我們直接透過範例來進行介紹，操作如下：\n"
      ]
    },
    {
      "cell_type": "code",
      "metadata": {
        "colab": {
          "base_uri": "https://localhost:8080/"
        },
        "id": "BolYHK6qZBfp",
        "outputId": "8bd559ba-a3ac-4529-9c7d-03346400c9aa"
      },
      "source": [
        "x=[1,2,3,4,5]\n",
        "print (x)\n",
        "\n",
        "# 將所有集合內的元素+1\n",
        "print ([ i+1 for i in x ])\n",
        "\n",
        "# 將所有集合內的元素平方\n",
        "print ([ i**2 for i in x ])"
      ],
      "execution_count": 33,
      "outputs": [
        {
          "output_type": "stream",
          "name": "stdout",
          "text": [
            "[1, 2, 3, 4, 5]\n",
            "[2, 3, 4, 5, 6]\n",
            "[1, 4, 9, 16, 25]\n"
          ]
        }
      ]
    },
    {
      "cell_type": "markdown",
      "metadata": {
        "id": "MdDMMnjfpyB2"
      },
      "source": [
        "接著，列表推導式還能夠加上if 條件判斷，如下所示：\n",
        "\n",
        "```\n",
        "[ 運算式 for 指定元素名稱 in 指定的列表 if 特定條件 ]\n",
        "```\n",
        "\n",
        "這樣看起來，有點像MySQL的Query，而我們可以透過if判斷來取得該list部分的資料。我們會在列表推導式中，進行欄位的判斷、計算，可以實現的功能相當多。"
      ]
    },
    {
      "cell_type": "code",
      "metadata": {
        "colab": {
          "base_uri": "https://localhost:8080/"
        },
        "id": "ydvVNS91qBo-",
        "outputId": "98324f51-0043-4fdf-b279-44c0a9e75926"
      },
      "source": [
        "x = [1, 2, 3, 4, 5]\n",
        "\n",
        "# 將所有集合內的元素i平方\n",
        "print ([ i**2 for i in x ])\n",
        "\n",
        "# 將所有集合內的元素i平方，若元素i不等於3\n",
        "print ([ i**2 for i in x if i != 3])\n",
        "\n",
        "\n",
        "# 接著我們要從二維的陣列，取得某個特定的欄位，如同下面的例子，我將第一個欄位的值取出\n",
        "y = [[1, 1], [2, 4], [3, 9], [4, 16]]\n",
        "\n",
        "print ([i[0] for i in y])"
      ],
      "execution_count": 34,
      "outputs": [
        {
          "output_type": "stream",
          "name": "stdout",
          "text": [
            "[1, 4, 9, 16, 25]\n",
            "[1, 4, 16, 25]\n",
            "[1, 2, 3, 4]\n"
          ]
        }
      ]
    },
    {
      "cell_type": "markdown",
      "metadata": {
        "id": "NBKgdPG2rbb7"
      },
      "source": [
        "操作上來說，就是透過迴圈來進行list的判斷、計算，但列表推導式不需要透過換行就可以實現迴圈，不過就功能上來說，還是有某些限制，例如不能在列表推導式進行巢狀迴圈。\n",
        "\n",
        "列表推導式經常使用在讀取檔案、進行資料篩選時會用到，讀取檔案也可以透過以下的方式：\n",
        "\n",
        "```\n",
        "[ 運算式 for 指定元素名稱 in open(指定檔案) ]\n",
        "```\n"
      ]
    },
    {
      "cell_type": "markdown",
      "metadata": {
        "id": "qxhdwfq2ro7-"
      },
      "source": [
        "# Split 分割 \n",
        "\n",
        "這邊所提到的分割，若是字串的分割，可以透過split函數，在技巧10中有詳細介紹。\n",
        "\n",
        "若要分割list，可以透過上述的取用來透過索引值來進行分割，但僅能侷限於索引值，沒有辦法依照條件來進行分割，而python list提供了切割的方式，就是透過迴圈來進行簡易的判斷，以下介紹如何透過迴圈簡易的來切割資料。\n",
        "\n",
        "切割的語法如下：\n",
        "```\n",
        "[      自訂變數 for 自訂變數 in 指定list   if 條件判斷句        ]\n",
        "```\n",
        "\n",
        "   "
      ]
    },
    {
      "cell_type": "code",
      "metadata": {
        "colab": {
          "base_uri": "https://localhost:8080/"
        },
        "id": "y3YYa7g5r2Tf",
        "outputId": "62a8a351-7b8f-4a4d-da51-f0aac6836475"
      },
      "source": [
        "x = [1, 2, 3, 4, 5, 6, 7, 8, 9]\n",
        "\n",
        "print ([i for i in x if i > 5])\n"
      ],
      "execution_count": 35,
      "outputs": [
        {
          "output_type": "stream",
          "name": "stdout",
          "text": [
            "[6, 7, 8, 9]\n"
          ]
        }
      ]
    },
    {
      "cell_type": "markdown",
      "metadata": {
        "id": "jojsmAiisNHt"
      },
      "source": [
        " # +, append, extend 合併\n",
        "\n",
        "Python中的陣列合併，也就是list的合併，最簡易的方式就是透過「+」運算符號來進行list相加，也可以透過append進行list的新增，或是透過extend的list合併。\n",
        "\n",
        "       "
      ]
    },
    {
      "cell_type": "code",
      "metadata": {
        "colab": {
          "base_uri": "https://localhost:8080/"
        },
        "id": "caFwHf2Wsfb9",
        "outputId": "816404b9-8302-4613-ffc0-80b671e3a008"
      },
      "source": [
        "# 透過「+」來進行list相加\n",
        "\n",
        "x = [1, 2, 3, 4, 5] \n",
        "y = [6, 7, 8, 9, 10]\n",
        "\n",
        "print (x+y)\n",
        "\n",
        "x = [1, 2, 3, 4, 5]\n",
        "print (type(x))\n",
        "\n",
        "x.append(100)\n",
        "print (x)\n",
        "\n",
        "x.extend([888, 999])\n",
        "print (x)\n"
      ],
      "execution_count": 39,
      "outputs": [
        {
          "output_type": "stream",
          "name": "stdout",
          "text": [
            "[1, 2, 3, 4, 5, 6, 7, 8, 9, 10]\n",
            "<class 'list'>\n",
            "[1, 2, 3, 4, 5, 100]\n",
            "[1, 2, 3, 4, 5, 100, 888, 999]\n"
          ]
        }
      ]
    }
  ]
}