{
  "nbformat": 4,
  "nbformat_minor": 0,
  "metadata": {
    "colab": {
      "name": "week_4.ipynb",
      "provenance": [],
      "collapsed_sections": [
        "MgLtHGe4NJy8",
        "sXXQvLA6NRRD",
        "U7cJZPTSVVv9",
        "jgswOo4bXHSX",
        "MAHZhPkqXWV5",
        "DbFqKPgUXu0q",
        "lSkTBaJNZl97",
        "m03JKlI1a2a7"
      ],
      "authorship_tag": "ABX9TyO48EgjkmqBIQVal9M0E+uX",
      "include_colab_link": true
    },
    "kernelspec": {
      "name": "python3",
      "display_name": "Python 3"
    },
    "language_info": {
      "name": "python"
    }
  },
  "cells": [
    {
      "cell_type": "markdown",
      "metadata": {
        "id": "view-in-github",
        "colab_type": "text"
      },
      "source": [
        "<a href=\"https://colab.research.google.com/github/Lydia-HMLin118/chihlee_110_IMS/blob/main/week_4.ipynb\" target=\"_parent\"><img src=\"https://colab.research.google.com/assets/colab-badge.svg\" alt=\"Open In Colab\"/></a>"
      ]
    },
    {
      "cell_type": "markdown",
      "metadata": {
        "id": "MgLtHGe4NJy8"
      },
      "source": [
        "# Python的基本運算與科學函數\n",
        "\n",
        "基本運算包括四則運算以及一些簡單的數學函數，而常見的科學函數，如絕對值、根號、三角函數與指數對數等函數，以下依序介紹。\n",
        "\n",
        "基本的變數型態有哪些? \n",
        "\n",
        "\n",
        "*   int : 整數\n",
        "*   float : 小數\n",
        "*   bool : 布林值\n",
        "*   str : 字串\n"
      ]
    },
    {
      "cell_type": "code",
      "metadata": {
        "colab": {
          "base_uri": "https://localhost:8080/"
        },
        "id": "9h0HxRRHKW_d",
        "outputId": "99ade6ce-c68d-4920-96ec-d7d5715c8b26"
      },
      "source": [
        "#@title\n",
        "print ('hello world')\n",
        "a = 1\n",
        "print (a+1)  #試試看結果如何? 請解釋a在\n",
        "\n",
        "b = '1'\n",
        "#print (b+1)\n",
        "print (int(b)+1)\n"
      ],
      "execution_count": null,
      "outputs": [
        {
          "output_type": "stream",
          "name": "stdout",
          "text": [
            "hello world\n",
            "2\n",
            "2\n"
          ]
        }
      ]
    },
    {
      "cell_type": "markdown",
      "metadata": {
        "id": "sXXQvLA6NRRD"
      },
      "source": [
        "# 加減乘除－（+、-、*、/）\n",
        "\n",
        "python中提供的基本運算：加、減、乘、除，分別為「+」、「-」、「*」、「/」，以下透過簡單的操作來介紹："
      ]
    },
    {
      "cell_type": "code",
      "metadata": {
        "colab": {
          "base_uri": "https://localhost:8080/"
        },
        "id": "OnIm3cV5VIj8",
        "outputId": "5b6b3d4b-2130-4731-9c49-df60896d9f6b"
      },
      "source": [
        "print (\"9+2 =\", 9+2)\n",
        "print (\"9-2 =\", 9-2)\n",
        "print (\"9*2 =\", 9*2)\n",
        "print (\"9/2 =\", 9/2)\n",
        "\n",
        "# 變數間的運算方式類似，如下所示：  \n",
        "x = 9\n",
        "y = 2\n",
        "\n",
        "print (\"x+y = \", x+y)"
      ],
      "execution_count": null,
      "outputs": [
        {
          "output_type": "stream",
          "name": "stdout",
          "text": [
            "9+2 = 11\n",
            "9-2 = 7\n",
            "9*2 = 18\n",
            "9/2 = 4.5\n",
            "x+y =  11\n"
          ]
        }
      ]
    },
    {
      "cell_type": "markdown",
      "metadata": {
        "id": "U7cJZPTSVVv9"
      },
      "source": [
        "# 加減乘除－（+、-、*、/）\n",
        "\n",
        "python中提供的基本運算：加、減、乘、除，分別為「+」、「-」、「*」、「/」，以下透過簡單的操作來介紹："
      ]
    },
    {
      "cell_type": "code",
      "metadata": {
        "colab": {
          "base_uri": "https://localhost:8080/"
        },
        "id": "eUvi1De0V_Kl",
        "outputId": "96b6d36b-44c7-44e7-ef3c-2d9bcf6e394a"
      },
      "source": [
        "# 兩數相除的商數－（//）\n",
        "# 如果被除數是正數，這運算的結果與floor函數相同，範例如下所示：\n",
        "\n",
        "print (\"3/2 =\", 3.0/2)\n",
        "print (\"3//2 =\", 3.0//2)\n",
        "\n",
        "# 無條件捨去除法會將計算出來的值（float）無條件捨去，若值為整數（int）則無影響。變數間的運算方式類似，如下所示：\n",
        "print (\"15/2 =\", 15/2)\n",
        "print (\"無條件捨去 >>>\", 15//2)\n",
        "\n"
      ],
      "execution_count": null,
      "outputs": [
        {
          "output_type": "stream",
          "name": "stdout",
          "text": [
            "3/2 = 1.5\n",
            "3//2 = 1.0\n",
            "15/2 = 7.5\n",
            "無條件捨去 >>> 7\n"
          ]
        }
      ]
    },
    {
      "cell_type": "markdown",
      "metadata": {
        "id": "jgswOo4bXHSX"
      },
      "source": [
        "# 次方－（**）\n",
        "\n",
        "python中提供了次方運算，如果x的y次方則語法表達為x**y，以下顯示操作範例：\n"
      ]
    },
    {
      "cell_type": "code",
      "metadata": {
        "colab": {
          "base_uri": "https://localhost:8080/"
        },
        "id": "oEB6phz_XNgX",
        "outputId": "0784801e-f1c7-4390-a416-2af650a3210e"
      },
      "source": [
        "x = 9\n",
        "y = 2\n",
        "print (x**y)"
      ],
      "execution_count": null,
      "outputs": [
        {
          "output_type": "stream",
          "name": "stdout",
          "text": [
            "81\n"
          ]
        }
      ]
    },
    {
      "cell_type": "markdown",
      "metadata": {
        "id": "MAHZhPkqXWV5"
      },
      "source": [
        "# 餘數－（%）\n",
        "\n",
        "python中，如果透過餘數進行運算，x除以y所得餘數的語法為 x%y ，以下顯示操作範例："
      ]
    },
    {
      "cell_type": "code",
      "metadata": {
        "colab": {
          "base_uri": "https://localhost:8080/"
        },
        "id": "clF7gC4VXbWX",
        "outputId": "93df7979-924d-47b2-deb1-389270ffbcd0"
      },
      "source": [
        "x = 9\n",
        "y = 2\n",
        "print (x%y)"
      ],
      "execution_count": null,
      "outputs": [
        {
          "output_type": "stream",
          "name": "stdout",
          "text": [
            "1\n"
          ]
        }
      ]
    },
    {
      "cell_type": "markdown",
      "metadata": {
        "id": "DbFqKPgUXu0q"
      },
      "source": [
        "# 亂數產生－random\n",
        "\n",
        "python中有提供random套件，但不是在預設套件中，所以必須在使用相關函數前，載入random套件。\n",
        "\n",
        "以下介紹random套件的用法，以及介紹幾個常用函數用法，舉例如下："
      ]
    },
    {
      "cell_type": "code",
      "metadata": {
        "colab": {
          "base_uri": "https://localhost:8080/"
        },
        "id": "yeJ865P0X187",
        "outputId": "ef64cbf3-2cab-4006-e75c-e97de3de35dd"
      },
      "source": [
        "#載入random套件，並隨機產生0至99的任一值。\n",
        "\n",
        "import random\n",
        "\n",
        "print (\"隨機產生0至99中的任一整數\")\n",
        "print (random.randint(0,99))\n",
        "print (random.randint(0,99))\n",
        "\n",
        "# 隨機產生0至101中的2的倍數。\n",
        "print (\"隨機產生0至101中的2的倍數\")\n",
        "print (random.randrange(0,101,2))\n",
        "print (random.randrange(0,101,2))\n",
        "\n",
        "# 隨機產生0至101中的3的倍數。\n",
        "print (\"隨機產生0至101中的3的倍數\")\n",
        "print (random.randrange(0,101,3))\n",
        "print (random.randrange(0,101,3))\n",
        "\n",
        "\n",
        "print (\"隨機產生一個小於1並且大於0的值。 1> x > 0\")\n",
        "print (random.random())\n",
        "print (random.random())\n"
      ],
      "execution_count": null,
      "outputs": [
        {
          "output_type": "stream",
          "name": "stdout",
          "text": [
            "隨機產生0至99中的任一整數\n",
            "98\n",
            "20\n",
            "隨機產生0至101中的2的倍數\n",
            "54\n",
            "88\n",
            "隨機產生0至101中的3的倍數\n",
            "54\n",
            "63\n",
            "隨機產生一個小於1並且大於0的值。 1> x > 0\n",
            "0.5318979773387439\n",
            "0.7371228481911694\n"
          ]
        }
      ]
    },
    {
      "cell_type": "markdown",
      "metadata": {
        "id": "lSkTBaJNZl97"
      },
      "source": [
        "# 轉換數值型態－int、float\n",
        "\n",
        "在python中，可以透過函數進行強制轉換數值型態，並且與C語言相比，不僅限於整數與浮點位數之間的轉換，也可以透過字串轉數值，以下顯示操作範例："
      ]
    },
    {
      "cell_type": "code",
      "metadata": {
        "colab": {
          "base_uri": "https://localhost:8080/"
        },
        "id": "NEtfyM_zZt3U",
        "outputId": "4349350f-4dbf-4fd6-a20a-3bf0d9be2cb4"
      },
      "source": [
        "x = 4.5\n",
        "y = \"3.33\"\n",
        "\n",
        "print (x)\n",
        "print (int(x))\n",
        "print (float(x))\n",
        "\n",
        "print (y)\n",
        "print (float(y))\n",
        "print (int(float(y)))\n"
      ],
      "execution_count": null,
      "outputs": [
        {
          "output_type": "stream",
          "name": "stdout",
          "text": [
            "4.5\n",
            "4\n",
            "4.5\n",
            "3.33\n",
            "3.33\n",
            "3\n"
          ]
        }
      ]
    },
    {
      "cell_type": "markdown",
      "metadata": {
        "id": "m03JKlI1a2a7"
      },
      "source": [
        "# 四捨五入函數－round\n",
        "\n",
        "Python中的round，實質上並非是四捨五入，實際上的功用是「***四捨六入五成雙***」，進位的數字若是偶數，則不進位。\n"
      ]
    },
    {
      "cell_type": "code",
      "metadata": {
        "colab": {
          "base_uri": "https://localhost:8080/"
        },
        "id": "dPr8bQNKba2g",
        "outputId": "b2003495-512c-4ec5-a761-94cb3ee7c66c"
      },
      "source": [
        "print (\"round(4.5654455) 若沒有填入位數參數，預設則為0\")\n",
        "print (round(4.5654455))\n",
        "\n",
        "print (\"round(4.5654455,3) 輸入位數參數3，則代表四捨五入至小數第3位\")\n",
        "print (round(4.5654455,3))\n",
        "\n",
        "print (\"round(4.5654455,4) 輸入位數參數4，則代表四捨五入至小數第4位\")\n",
        "print (round(4.5654455,4))\n",
        "\n",
        "print (\"round(4.5654455,5) 輸入位數參數5，則代表四捨五入至小數第5位\")\n",
        "print (round(4.5654455,5))\n",
        "\n",
        "print (\"round(1.5) 進位數為1，則進位\")\n",
        "print (round(1.5)) \n",
        "\n",
        "print (\"round(2.5) 進位數為2，則不進位\")\n",
        "print (round(2.5)) "
      ],
      "execution_count": null,
      "outputs": [
        {
          "output_type": "stream",
          "name": "stdout",
          "text": [
            "round(4.5654455) 若沒有填入位數參數，預設則為0\n",
            "5\n",
            "round(4.5654455,3) 輸入位數參數3，則代表四捨五入至小數第3位\n",
            "4.565\n",
            "round(4.5654455,4) 輸入位數參數4，則代表四捨五入至小數第4位\n",
            "4.5654\n",
            "round(4.5654455,5) 輸入位數參數4，則代表四捨五入至小數第4位\n",
            "4.56545\n",
            "round(1.5) 進位數為1，則進位\n",
            "2\n",
            "round(2.5) 進位數為2，則不進位\n",
            "2\n"
          ]
        }
      ]
    },
    {
      "cell_type": "markdown",
      "metadata": {
        "id": "GHN6je2SdJmJ"
      },
      "source": [
        "# 小於等於的最大整數－floor\n",
        "\n",
        "在python中，可以透過floor函數取得小於等於的最大整數。由於floor函數存在於math套件中，所以必須先載入該套件才可以使用。列舉範例如下："
      ]
    },
    {
      "cell_type": "code",
      "metadata": {
        "id": "podEcdRXdJMy"
      },
      "source": [
        "import math\n",
        "\n",
        "print (math.floor(4.56778))\n",
        "print (math.floor(4))\n",
        "print (math.floor(-3.44556))\n"
      ],
      "execution_count": null,
      "outputs": []
    },
    {
      "cell_type": "markdown",
      "metadata": {
        "id": "IsLskvPYdrl2"
      },
      "source": [
        "# 大於等於的最小整數－ceil\n",
        "\n",
        "在python中，可以透過ceil函數來取得大於等於的最小整數。由於ceil函數存在於math套件中，所以必須先載入該套件才可以使用。列舉範例如下："
      ]
    },
    {
      "cell_type": "code",
      "metadata": {
        "id": "YAiPN0Ojd02S"
      },
      "source": [
        "import math\n",
        "\n",
        "print (math.ceil(4))\n",
        "print (math.ceil(4.1))\n",
        "print (math.ceil(-3))\n",
        "print (math.ceil(-3.3))\n"
      ],
      "execution_count": null,
      "outputs": []
    },
    {
      "cell_type": "markdown",
      "metadata": {
        "id": "EBRRs6GueIY3"
      },
      "source": [
        "# 開根號－sqrt\n",
        "\n",
        "在python中，可以透過sqrt函數，來進行開根號運算。由於sqrt函數存在於math套件中，所以必須先載入該套件才可以使用。列舉範例如下："
      ]
    },
    {
      "cell_type": "code",
      "metadata": {
        "id": "YVDqtdExeSGF"
      },
      "source": [
        "import math\n",
        "\n",
        "print (math.sqrt(16))\n",
        "print (math.sqrt(81))"
      ],
      "execution_count": null,
      "outputs": []
    },
    {
      "cell_type": "markdown",
      "metadata": {
        "id": "2sJNFfhrejfa"
      },
      "source": [
        "# 絕對值函數－abs\n",
        "\n",
        "在python中，可以透過abs函數來取得絕對值。列舉範例如下：\n",
        "\n"
      ]
    },
    {
      "cell_type": "code",
      "metadata": {
        "id": "CtlAcj5EecXk"
      },
      "source": [
        "print (abs(100))\n",
        "print (abs(-100.0))\n"
      ],
      "execution_count": null,
      "outputs": []
    },
    {
      "cell_type": "markdown",
      "metadata": {
        "id": "YFQM2RMtezaX"
      },
      "source": [
        "# 指數函數－exp\n",
        "\n",
        "在python中，可以透過exp函數來取得指數。由於exp函數存在於math套件中，所以必須先載入該套件才可以使用。列舉範例如下："
      ]
    },
    {
      "cell_type": "code",
      "metadata": {
        "id": "ZW7AdRQLejJk"
      },
      "source": [
        "import math\n",
        "\n",
        "print (math.exp(2))\n",
        "print (math.exp(10))\n"
      ],
      "execution_count": null,
      "outputs": []
    },
    {
      "cell_type": "markdown",
      "metadata": {
        "id": "ywj0ZFLRfQbI"
      },
      "source": [
        "# 對數函數－log、log10\n",
        "\n",
        "在python中，可以透過log與log10函數來取得對數，其中log是以e為底的對數，由於log函數存在於math套件中，所以必須先載入該套件才可以使用。列舉範例如下：\n",
        "\n"
      ]
    },
    {
      "cell_type": "code",
      "metadata": {
        "id": "5fyKG4I_fV4H"
      },
      "source": [
        "import math\n",
        "print (math.log(4))\n",
        "1.3862943611198906\n",
        "print (math.log(6))"
      ],
      "execution_count": null,
      "outputs": []
    },
    {
      "cell_type": "markdown",
      "metadata": {
        "id": "ZYcwQs-SflGb"
      },
      "source": [
        "# 三角函數－sin、cos、tan\n",
        "\n",
        "在python中，也有提供三角函數。由於三角函數存在於math套件中，所以必須先載入該套件才可以使用。列舉範例如下："
      ]
    },
    {
      "cell_type": "code",
      "metadata": {
        "id": "-cREE2byfo2O"
      },
      "source": [
        "import math\n",
        "\n",
        "print (math.sin(10))\n",
        "print (math.cos(10))\n",
        "print (math.tan(10))\n"
      ],
      "execution_count": null,
      "outputs": []
    },
    {
      "cell_type": "markdown",
      "metadata": {
        "id": "wHCFqbGPf52U"
      },
      "source": [
        "# 最大值－­max\n",
        "\n",
        "在python中，可以透過max函數來取得數值的最大值。列舉範例如下："
      ]
    },
    {
      "cell_type": "code",
      "metadata": {
        "id": "UURoIejWf1Ci"
      },
      "source": [
        "print (max(-1,1,2,3,4,5,6))\n",
        "\n",
        "# 使用變數進行操作，如下所示：\n",
        "x = (1,2,3,4,5,6,7)\n",
        "print (max(x))"
      ],
      "execution_count": null,
      "outputs": []
    },
    {
      "cell_type": "markdown",
      "metadata": {
        "id": "HROxv1dCgKiD"
      },
      "source": [
        "# 最小值－min\n",
        "\n",
        "在python中，可以透過min函數來取得數值的最小值。列舉範例如下："
      ]
    },
    {
      "cell_type": "code",
      "metadata": {
        "id": "CLOsq1xPgSG-"
      },
      "source": [
        "print min(-1,1,2,3,4,5,6)\n",
        "\n",
        "# 使用變數進行操作，如下所示：\n",
        "x = (1,2,3,4,5,6,7)\n",
        "print (min(x))\n"
      ],
      "execution_count": null,
      "outputs": []
    }
  ]
}