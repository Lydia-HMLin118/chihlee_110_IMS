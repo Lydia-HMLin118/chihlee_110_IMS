{
  "nbformat": 4,
  "nbformat_minor": 0,
  "metadata": {
    "colab": {
      "name": "week_7.ipynb",
      "provenance": [],
      "collapsed_sections": [
        "2hdZAdMsvfY4",
        "dwhqIv6xKKj1",
        "4VqXs6FSNCVc"
      ],
      "mount_file_id": "1hKIJWD9EvZLKNLt0Z8W4yPB3BlF2twbN",
      "authorship_tag": "ABX9TyNYiM6ukrs1v+Wou0Hv+W0f",
      "include_colab_link": true
    },
    "kernelspec": {
      "name": "python3",
      "display_name": "Python 3"
    },
    "language_info": {
      "name": "python"
    }
  },
  "cells": [
    {
      "cell_type": "markdown",
      "metadata": {
        "id": "view-in-github",
        "colab_type": "text"
      },
      "source": [
        "<a href=\"https://colab.research.google.com/github/Lydia-HMLin118/chihlee_110_IMS/blob/main/week_7.ipynb\" target=\"_parent\"><img src=\"https://colab.research.google.com/assets/colab-badge.svg\" alt=\"Open In Colab\"/></a>"
      ]
    },
    {
      "cell_type": "markdown",
      "metadata": {
        "id": "2hdZAdMsvfY4"
      },
      "source": [
        "# 文字檔的讀取與寫入\n",
        "\n",
        "Python對檔案的控制，也設計的相當完善，透過 **open、close、read、write** 就可以控制檔案的讀取與寫入，除此之外，Python也有提供 **readline、readlines** 去依照行數進行檔案的讀取，以下將分別介紹檔案的函數用法。"
      ]
    },
    {
      "cell_type": "markdown",
      "metadata": {
        "id": "dwhqIv6xKKj1"
      },
      "source": [
        "#方法一:自行上傳檔案\n",
        "\n",
        "\n",
        "```\n",
        "from google.colab import files\n",
        "import pandas as pd\n",
        "＃由輸入彈跳視窗，上載電腦端的檔案\n",
        "upload = files.upload()\n",
        "pd.read_csv(\"檔名\")\n",
        "\n",
        "```\n",
        "\n",
        "\n",
        "#方法二:透過Google Drive開啟檔案\n",
        "\n",
        "```\n",
        "from google.colab import drives\n",
        "import pandas as pd\n",
        "\n",
        "# 此處需要登入google帳號\n",
        "drive.mount('/content/drive') \n",
        "\n",
        "# 獲取授權碼之後輸入即可連動雲端硬碟\n",
        "data2 = pd.read_csv(\"/content/drive/MyDrive/檔案路徑及檔名\")\n",
        "\n",
        "```\n",
        "\n"
      ]
    },
    {
      "cell_type": "code",
      "metadata": {
        "id": "uq5cSot1vbTk",
        "colab": {
          "resources": {
            "http://localhost:8080/nbextensions/google.colab/files.js": {
              "data": "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",
              "ok": true,
              "headers": [
                [
                  "content-type",
                  "application/javascript"
                ]
              ],
              "status": 200,
              "status_text": ""
            }
          },
          "base_uri": "https://localhost:8080/",
          "height": 400
        },
        "outputId": "a07b615e-ed54-4012-f9cd-37508ec6abd5"
      },
      "source": [
        "#方法一:自行上傳檔案　import files\n",
        "\n",
        "#匯入套件\n",
        "from google.colab import files\n",
        "import pandas as pd\n",
        "upload = files.upload()\n",
        "print (type(upload))\n",
        "data1 = pd.read_csv(\"MuseLog.txt\")\n",
        "print (\"#data1 START#\")\n",
        "print (data1)\n",
        "print (type(data1))\n",
        "print (\"#data1 END#\")\n",
        "\n",
        "\n",
        "#方法二:透過Google Drive開啟檔案　import drive\n",
        "\n",
        "#匯入套件\n",
        "from google.colab import drive\n",
        "import pandas as pd\n",
        "\n",
        "# 此處需要登入google帳號\n",
        "drive.mount('/content/drive') \n",
        "\n",
        "# 獲取授權碼之後輸入即可連動雲端硬碟\n",
        "data2 = pd.read_csv(\"/content/drive/MyDrive/致理-1101資三A-智慧投資程式設計/Colab Notebooks/給同學的教材/data/test.txt\")\n",
        "\n",
        "\n",
        "print (\"#data2 START#\")\n",
        "print (data2)\n",
        "print (type(data2))\n",
        "print (\"#data2 END#\")"
      ],
      "execution_count": null,
      "outputs": [
        {
          "output_type": "display_data",
          "data": {
            "text/html": [
              "\n",
              "     <input type=\"file\" id=\"files-9bc52f06-56dd-4c18-b06b-559a882360d4\" name=\"files[]\" multiple disabled\n",
              "        style=\"border:none\" />\n",
              "     <output id=\"result-9bc52f06-56dd-4c18-b06b-559a882360d4\">\n",
              "      Upload widget is only available when the cell has been executed in the\n",
              "      current browser session. Please rerun this cell to enable.\n",
              "      </output>\n",
              "      <script src=\"/nbextensions/google.colab/files.js\"></script> "
            ],
            "text/plain": [
              "<IPython.core.display.HTML object>"
            ]
          },
          "metadata": {}
        },
        {
          "output_type": "stream",
          "name": "stdout",
          "text": [
            "Saving MuseLog.txt to MuseLog (1).txt\n",
            "<class 'dict'>\n",
            "#data1 START#\n",
            "  Logging in build 2018.0.0.685 started at: Wed Aug  5 11:02:23 2020\n",
            "0           ========================================                \n",
            "1  [00:00:04.766] 11:02:31.041 | Error - IMS : No...                \n",
            "2  [00:00:15.110] 11:02:41.380 | quitWithUI:Quitt...                \n",
            "3  [00:00:15.110] 11:02:41.382 | Quitting Applica...                \n",
            "4           [00:00:16.969] Logging shutdown normally                \n",
            "5                                         ==========                \n",
            "6         Logging ended at: Wed Aug  5 11:02:43 2020                \n",
            "<class 'pandas.core.frame.DataFrame'>\n",
            "#data1 END#\n",
            "Drive already mounted at /content/drive; to attempt to forcibly remount, call drive.mount(\"/content/drive\", force_remount=True).\n",
            "#data2 START#\n",
            "      HELLO   This is a test.\n",
            "0  end. bye               NaN\n",
            "<class 'pandas.core.frame.DataFrame'>\n",
            "#data2 END#\n"
          ]
        }
      ]
    },
    {
      "cell_type": "markdown",
      "metadata": {
        "id": "qFdKWL9eMdOM"
      },
      "source": [
        "#寫入檔案\n",
        "與原生的python使用的所有寫入方法都相同，以下示範最重要的模型參數讀寫\n",
        "\n",
        "\n",
        "使用 Pickle 模組保存資料（持久化數據）\n",
        "\n",
        "pickle 在 Python 中是相當相當有名的，它的運作方法跟 Json 有點像，都是可以壓縮資料、保存、並且隨時隨地解開我們儲存好的資料，還原Python的工作階段。\n",
        "\n",
        "由於它是專門為 Python 而生的、而非像 Json 那般是『輕量級的資料儲存格式』，故若是需要跨語言進行開發時，pickle 這種儲存資料的格式可能就不太適合，不過若只是要進行 Python 專案的開發，那麼 pickle 可是非常非常方便的！"
      ]
    },
    {
      "cell_type": "code",
      "metadata": {
        "colab": {
          "base_uri": "https://localhost:8080/"
        },
        "id": "DeQj9ozRMp_q",
        "outputId": "0ac7d4f0-be59-4850-c403-e408d377d15e"
      },
      "source": [
        "## 模型參數存檔\n",
        "import pickle\n",
        "pkl_filename = \"/content/drive/MyDrive/致理-1101資三A-智慧投資程式設計/Colab Notebooks/給同學的教材/data/model.pkl\"  \n",
        "\n",
        "my_dict = {\n",
        "    'a': 1,\n",
        "    'b': 2,\n",
        "    'c': 3,\n",
        "}\n",
        "with open(pkl_filename, 'wb') as file:  \n",
        "    pickle.dump(my_dict, file)\n",
        "\n",
        "\n",
        "print (type(file))\n"
      ],
      "execution_count": null,
      "outputs": [
        {
          "output_type": "stream",
          "name": "stdout",
          "text": [
            "<class '_io.BufferedWriter'>\n"
          ]
        }
      ]
    },
    {
      "cell_type": "markdown",
      "metadata": {
        "id": "e-P1bTKuv3fb"
      },
      "source": [
        "# open－取用檔案\n",
        "\n",
        "python提供的open內建函數，可以直接對檔案進行取用，並且設定適當的權限，就可以對檔案進行讀寫，讀取及寫入在後面會介紹到。 取用檔案介紹如下："
      ]
    },
    {
      "cell_type": "markdown",
      "metadata": {
        "id": "DaLom1tF5tmn"
      },
      "source": [
        "# Pandas 介紹\n",
        "Pandas 是 python 的一個數據分析 lib，2009 年底開源出來，提供高效能、簡易使用的資料格式(Data Frame)讓使用者可以快速操作及分析資料，主要特色描述如下：\n",
        "\n",
        "\n",
        "\n",
        "1.   在異質數據的讀取、轉換和處理上，都讓分析人員更容易處理，例如：從列欄試算表中找到想要的值。\n",
        "2.   Pandas 提供兩種主要的資料結構，Series 與 DataFrame。**Series** 顧名思義就是用來處理時間序列相關的資料(如感測器資料等)，主要為建立索引的一維陣列。**DataFrame** 則是用來處理結構化(Table like)的資料，有列索引與欄標籤的二維資料集，例如關聯式資料庫、CSV 等等。\n",
        "\n",
        "3.   透過載入至 Pandas 的資料結構物件後，可以透過結構化物件所提供的方法，來快速地進行資料的前處理，如資料補值，空值去除或取代等。\n",
        "4.   更多的輸入來源及輸出整合性，例如：可以從資料庫讀取資料進入 Dataframe，也可將處理完的資料存回資料庫。\n",
        "\n",
        "\n",
        "＃安裝 Pandas\n",
        "\n",
        "Python 安裝方式一樣都是透過 pip install 即可完成安裝，語法如下：\n",
        "\n",
        "`pip install pandas`  "
      ]
    },
    {
      "cell_type": "code",
      "metadata": {
        "id": "7HjOqmmk6mR9"
      },
      "source": [
        ""
      ],
      "execution_count": null,
      "outputs": []
    },
    {
      "cell_type": "markdown",
      "metadata": {
        "id": "vwXb74MX6mzq"
      },
      "source": [
        "# Pandas 讀取資料\n",
        "可以從異質資料來源讀取檔案內容，並將資料放入 DataFrame 中，進行資料查看、資料篩選、資料切片等運算。\n",
        "\n",
        "```\n",
        "# 讀取 CSV File\n",
        "import pandas as pd # 引用套件並縮寫為 pd  \n",
        "df = pd.read_csv('student_list.csv')  \n",
        "print(df)  \n",
        "```\n",
        "\n"
      ]
    },
    {
      "cell_type": "code",
      "metadata": {
        "colab": {
          "base_uri": "https://localhost:8080/"
        },
        "id": "IxloVvyd5G-7",
        "outputId": "5f4f1799-5952-49da-fe06-b1b169e1bd47"
      },
      "source": [
        "#　透過Google Drive開啟檔案 import drive\n",
        "\n",
        "#匯入套件\n",
        "from google.colab import drive\n",
        "#引用套件並縮寫為 pd \n",
        "import pandas as pd   \n",
        "\n",
        "# 此處需要登入google帳號\n",
        "drive.mount('/content/drive') \n",
        "# 獲取授權碼之後輸入即可連動雲端硬碟\n",
        "\n",
        "data3 = pd.read_csv('/content/drive/MyDrive/致理-1101資三A-智慧投資程式設計/Colab Notebooks/給同學的教材/data/ExchangeRate@202111041121.csv')  \n",
        "\n",
        "print (\"#data3 START#\")\n",
        "print (data3)\n",
        "print (type(data3))\n",
        "print (\"#data3 END#\")\n"
      ],
      "execution_count": 4,
      "outputs": [
        {
          "output_type": "stream",
          "name": "stdout",
          "text": [
            "Drive already mounted at /content/drive; to attempt to forcibly remount, call drive.mount(\"/content/drive\", force_remount=True).\n",
            "#data2 START#\n",
            "      HELLO   This is a test.\n",
            "0  end. bye               NaN\n",
            "<class 'pandas.core.frame.DataFrame'>\n",
            "#data2 END#\n",
            "#data3 START#\n",
            "    Currency      Rate  ...  Forward-150Days.1  Forward-180Days.1\n",
            "USD   Buying  27.44000  ...            27.8810                NaN\n",
            "HKD   Buying   3.42100  ...             3.6080                NaN\n",
            "GBP   Buying  36.84000  ...            38.2080                NaN\n",
            "AUD   Buying  20.36000  ...            20.8450                NaN\n",
            "CAD   Buying  21.97000  ...            22.5530                NaN\n",
            "SGD   Buying  20.07000  ...            20.7250                NaN\n",
            "CHF   Buying  29.70000  ...            30.7880                NaN\n",
            "JPY   Buying   0.23450  ...             0.2464                NaN\n",
            "ZAR   Buying   0.00000  ...             1.8210                NaN\n",
            "SEK   Buying   2.88000  ...             3.3270                NaN\n",
            "NZD   Buying  19.45000  ...            19.9510                NaN\n",
            "THB   Buying   0.70760  ...             0.0000                NaN\n",
            "PHP   Buying   0.47670  ...             0.0000                NaN\n",
            "IDR   Buying   0.00163  ...             0.0000                NaN\n",
            "EUR   Buying  31.48000  ...            32.6600                NaN\n",
            "KRW   Buying   0.02186  ...             0.0000                NaN\n",
            "VND   Buying   0.00100  ...             0.0000                NaN\n",
            "MYR   Buying   5.69100  ...             0.0000                NaN\n",
            "CNY   Buying   4.25800  ...             4.3256                NaN\n",
            "\n",
            "[19 rows x 21 columns]\n",
            "<class 'pandas.core.frame.DataFrame'>\n",
            "#data3 END#\n"
          ]
        }
      ]
    },
    {
      "cell_type": "markdown",
      "metadata": {
        "id": "C1r__Uex_AVm"
      },
      "source": [
        "#Pandas 提供的資料結構\n",
        "\n",
        "1. **Series：**用來處理時間序列相關的資料(如感測器資料等)，主要為建立索引的一維陣列。\n",
        "2. **DataFrame：**用來處理結構化(Table like)的資料，有列索引與欄標籤的二維資料集，例如關聯式資料庫、CSV 等等。\n",
        "3. **Panel：**用來處理有資料及索引、列索引與欄標籤的三維資料集。"
      ]
    },
    {
      "cell_type": "markdown",
      "metadata": {
        "id": "1NhpykQI_goG"
      },
      "source": [
        "#1.Series\n",
        "1.1 建立 Series\n",
        "\n",
        "資料可以的類型如下：\n",
        "\n",
        "1. array\n",
        "2. dictionary\n",
        "3. 單一資料\n",
        "\n",
        "```\n",
        "import pandas as pd # 引用套件並縮寫為 pd\n",
        "select = pd.Series(data, index = idx) #將資料讀入 series 方法中\n",
        "```"
      ]
    },
    {
      "cell_type": "markdown",
      "metadata": {
        "id": "FzI6ok_C_0hQ"
      },
      "source": [
        "# 資料為 Array\n",
        "\n",
        "```\n",
        "import pandas as pd  # 引用套件並縮寫為 pd\n",
        "cars = [\"BMW\", \"BENZ\", \"Toyota\", \"Nissan\", \"Lexus\"]\n",
        "select = pd.Series(cars)  \n",
        "print(select)\n",
        "```\n",
        "\n"
      ]
    },
    {
      "cell_type": "code",
      "metadata": {
        "colab": {
          "base_uri": "https://localhost:8080/"
        },
        "id": "uwbylK5XAABO",
        "outputId": "ebc12590-73a0-4207-8b12-d4896006720d"
      },
      "source": [
        "import pandas as pd  # 引用套件並縮寫為 pd\n",
        "cars = [\"BMW\", \"BENZ\", \"Toyota\", \"Nissan\", \"Lexus\"]\n",
        "select = pd.Series(cars) \n",
        "print (select) \n",
        "print(type(select))"
      ],
      "execution_count": 7,
      "outputs": [
        {
          "output_type": "stream",
          "name": "stdout",
          "text": [
            "0       BMW\n",
            "1      BENZ\n",
            "2    Toyota\n",
            "3    Nissan\n",
            "4     Lexus\n",
            "dtype: object\n",
            "<class 'pandas.core.series.Series'>\n"
          ]
        }
      ]
    },
    {
      "cell_type": "markdown",
      "metadata": {
        "id": "O6wR1Np9AO-H"
      },
      "source": [
        "# 資料為 Dictionary"
      ]
    },
    {
      "cell_type": "code",
      "metadata": {
        "colab": {
          "base_uri": "https://localhost:8080/"
        },
        "id": "3vWY8Hf7_oAx",
        "outputId": "8650915d-0432-4ba6-d746-b135d32d1d0a"
      },
      "source": [
        "import pandas as pd\n",
        "\n",
        "dict = {  \n",
        "    \"factory\": \"Taipei\",\n",
        "    \"sensor1\": \"1\",\n",
        "    \"sensor2\": \"2\",\n",
        "    \"sensor3\": \"3\",\n",
        "    \"sensor4\": \"4\",\n",
        "    \"sensor5\": \"5\"\n",
        "}\n",
        "\n",
        "select = pd.Series(dict, index = dict.keys()) # 排序與原 dict 相同  \n",
        "print(select[0])  \n",
        "print(\"=====\")  \n",
        "print(select['sensor1'])  \n",
        "print(\"=====\")  \n",
        "print(select[[0, 2, 4]])  \n",
        "print(\"=====\")  \n",
        "print(select[['factory', 'sensor1', 'sensor3']])  "
      ],
      "execution_count": 8,
      "outputs": [
        {
          "output_type": "stream",
          "name": "stdout",
          "text": [
            "Taipei\n",
            "=====\n",
            "1\n",
            "=====\n",
            "factory    Taipei\n",
            "sensor2         2\n",
            "sensor4         4\n",
            "dtype: object\n",
            "=====\n",
            "factory    Taipei\n",
            "sensor1         1\n",
            "sensor3         3\n",
            "dtype: object\n"
          ]
        }
      ]
    },
    {
      "cell_type": "markdown",
      "metadata": {
        "id": "fNTK499dA2w9"
      },
      "source": [
        "# 資料為單一資料"
      ]
    },
    {
      "cell_type": "code",
      "metadata": {
        "colab": {
          "base_uri": "https://localhost:8080/"
        },
        "id": "A1awG270BBir",
        "outputId": "8ef64e0c-2b8e-4062-c3f4-ceddc75fa02e"
      },
      "source": [
        "import pandas as pd\n",
        "\n",
        "cars = \"BENZ\"  \n",
        "select = pd.Series(cars, index = range(3))  \n",
        "print(select)  "
      ],
      "execution_count": 9,
      "outputs": [
        {
          "output_type": "stream",
          "name": "stdout",
          "text": [
            "0    BENZ\n",
            "1    BENZ\n",
            "2    BENZ\n",
            "dtype: object\n"
          ]
        }
      ]
    },
    {
      "cell_type": "markdown",
      "metadata": {
        "id": "6jmmnQVABRMN"
      },
      "source": [
        "# 1.2 Series 的操作\n",
        "\n",
        "❖ 資料選擇與篩選\n",
        "可以針對 dict 或是 array 資料透過透過索引值或標籤，挑選出你所要的值。"
      ]
    },
    {
      "cell_type": "code",
      "metadata": {
        "colab": {
          "base_uri": "https://localhost:8080/"
        },
        "id": "fYTxSE1fBbFk",
        "outputId": "a7cfb89e-dea5-4d44-c64f-aff91d620730"
      },
      "source": [
        "import pandas as pd\n",
        "\n",
        "dict = {  \n",
        "    \"factory\": \"Taipei\",\n",
        "    \"sensor1\": \"1\",\n",
        "    \"sensor2\": \"2\",\n",
        "    \"sensor3\": \"3\",\n",
        "    \"sensor4\": \"4\",\n",
        "    \"sensor5\": \"5\"\n",
        "}\n",
        "\n",
        "select = pd.Series(dict, index = dict.keys()) # 排序與原 dict 相同  \n",
        "print(select[0])  \n",
        "print(\"=====\")  \n",
        "print(select['sensor1'])  \n",
        "print(\"=====\")  \n",
        "print(select[[0, 2, 4]])  \n",
        "print(\"=====\")  \n",
        "print(select[['factory', 'sensor1', 'sensor3']])  "
      ],
      "execution_count": 10,
      "outputs": [
        {
          "output_type": "stream",
          "name": "stdout",
          "text": [
            "Taipei\n",
            "=====\n",
            "1\n",
            "=====\n",
            "factory    Taipei\n",
            "sensor2         2\n",
            "sensor4         4\n",
            "dtype: object\n",
            "=====\n",
            "factory    Taipei\n",
            "sensor1         1\n",
            "sensor3         3\n",
            "dtype: object\n"
          ]
        }
      ]
    },
    {
      "cell_type": "markdown",
      "metadata": {
        "id": "w6V0aNpvB5pJ"
      },
      "source": [
        "# 資料切片\n",
        "透過透過索引值或標籤，切割需要的值。"
      ]
    },
    {
      "cell_type": "code",
      "metadata": {
        "colab": {
          "base_uri": "https://localhost:8080/"
        },
        "id": "hLf2w2kSCCn1",
        "outputId": "ea7b3e86-8e5f-417b-c98d-6a548c858c99"
      },
      "source": [
        "import pandas as pd\n",
        "\n",
        "dict = {  \n",
        "    \"factory\": \"Taipei\",\n",
        "    \"sensor1\": \"1\",\n",
        "    \"sensor2\": \"2\",\n",
        "    \"sensor3\": \"3\",\n",
        "    \"sensor4\": \"4\",\n",
        "    \"sensor5\": \"5\"\n",
        "}\n",
        "\n",
        "select = pd.Series(dict, index = dict.keys()) # 排序與原 dict 相同  \n",
        "print(select[:2])  \n",
        "print(\"=====\")  \n",
        "print(select['sensor2':])  "
      ],
      "execution_count": 11,
      "outputs": [
        {
          "output_type": "stream",
          "name": "stdout",
          "text": [
            "factory    Taipei\n",
            "sensor1         1\n",
            "dtype: object\n",
            "=====\n",
            "sensor2    2\n",
            "sensor3    3\n",
            "sensor4    4\n",
            "sensor5    5\n",
            "dtype: object\n"
          ]
        }
      ]
    },
    {
      "cell_type": "markdown",
      "metadata": {
        "id": "U6GA0sLkCFXM"
      },
      "source": [
        "# \b 2.DataFrame\n",
        "## 2.1 建立 DataFrame\n",
        "DataFrame 用來處理結構化(Table like)的資料，有列索引與欄標籤的二維資料集，可以透過 Dictionary 或是 Array 來建立，但也可以利用外部的資料來讀取後來建立，例如： CSV 檔案、資料庫等等。\n",
        "\n",
        "下列範例會介紹利用 Dictionary 或是 Array 來建立，並使用 DataFrame 的方法來操作資料查看、資料篩選、資料切片、資料排序等運算。\n",
        "\n",
        "❖ 資料為 Dictionary\n",
        "\n"
      ]
    },
    {
      "cell_type": "code",
      "metadata": {
        "colab": {
          "base_uri": "https://localhost:8080/"
        },
        "id": "RQX1_CibCSAb",
        "outputId": "782d5377-dfdb-4d2d-ae80-d4251915c990"
      },
      "source": [
        "import pandas as pd # 引用套件並縮寫為 pd\n",
        "\n",
        "groups = [\"Movies\", \"Sports\", \"Coding\", \"Fishing\", \"Dancing\", \"cooking\"]  \n",
        "num = [46, 8, 12, 12, 6, 58]\n",
        "\n",
        "dict = {\"groups\": groups,  \n",
        "        \"num\": num\n",
        "       }\n",
        "\n",
        "select_df = pd.DataFrame(dict)\n",
        "\n",
        "print(select_df) # 看看資料框的外觀  "
      ],
      "execution_count": 12,
      "outputs": [
        {
          "output_type": "stream",
          "name": "stdout",
          "text": [
            "    groups  num\n",
            "0   Movies   46\n",
            "1   Sports    8\n",
            "2   Coding   12\n",
            "3  Fishing   12\n",
            "4  Dancing    6\n",
            "5  cooking   58\n"
          ]
        }
      ]
    },
    {
      "cell_type": "markdown",
      "metadata": {
        "id": "W4zlbyqvCYCJ"
      },
      "source": [
        "# 資料為 Array"
      ]
    },
    {
      "cell_type": "code",
      "metadata": {
        "colab": {
          "base_uri": "https://localhost:8080/"
        },
        "id": "VmsOJiRrCaXA",
        "outputId": "389ffd27-3f81-4796-ce92-91ea3ef5dd61"
      },
      "source": [
        "import pandas as pd\n",
        "\n",
        "arr = groups = [[\"Movies\", 46],[\"Sports\", 8], [\"Coding\", 12], [\"Fishing\",12], [\"Dancing\",6], [\"cooking\",8]]\n",
        "\n",
        "df = pd.DataFrame(arr, columns = [\"name\", \"num\"]) # 指定欄標籤名稱  \n",
        "print(df)  \n"
      ],
      "execution_count": 13,
      "outputs": [
        {
          "output_type": "stream",
          "name": "stdout",
          "text": [
            "      name  num\n",
            "0   Movies   46\n",
            "1   Sports    8\n",
            "2   Coding   12\n",
            "3  Fishing   12\n",
            "4  Dancing    6\n",
            "5  cooking    8\n"
          ]
        }
      ]
    },
    {
      "cell_type": "markdown",
      "metadata": {
        "id": "TrGxTYOsCjou"
      },
      "source": [
        "# 2.2 DataFrame 的操作\n",
        "❖ 資料描述查看\n",
        "可以透過下列方法查看目前資料的資訊\n",
        "\n",
        "**.shape**\n",
        "\n",
        "**.describe()**\n",
        "\n",
        "**.head()**\n",
        "\n",
        "**.tail()**\n",
        "\n",
        "**.columns**\n",
        "\n",
        "**.index**\n",
        "\n",
        "**.info()**"
      ]
    },
    {
      "cell_type": "code",
      "metadata": {
        "colab": {
          "base_uri": "https://localhost:8080/"
        },
        "id": "0eq3v5nyC_iW",
        "outputId": "38260a43-1720-4da8-9691-e59a65808dc3"
      },
      "source": [
        "# Pandas 的 data frame 資料結構有一些方法或屬性\n",
        "\n",
        "import pandas as pd\n",
        "\n",
        "groups = [\"Movies\", \"Sports\", \"Coding\", \"Fishing\", \"Dancing\", \"cooking\"]  \n",
        "num = [46, 8, 12, 12, 6, 58]\n",
        "\n",
        "dict = {\"groups\": groups,  \n",
        "        \"num\": num\n",
        "        }\n",
        "\n",
        "\n",
        "select_df = pd.DataFrame(dict)\n",
        "\n",
        "print(select_df.shape) # 回傳列數與欄數  \n",
        "print(\"---\")  \n",
        "print(select_df.describe()) # 回傳描述性統計  \n",
        "print(\"---\")  \n",
        "print(select_df.head(3)) # 回傳前三筆觀測值  \n",
        "print(\"---\")  \n",
        "print(select_df.tail(3)) # 回傳後三筆觀測值  \n",
        "print(\"---\")  \n",
        "print(select_df.columns) # 回傳欄位名稱  \n",
        "print(\"---\")  \n",
        "print(select_df.index) # 回傳 index  \n",
        "print(\"---\")  \n",
        "print(select_df.info) # 回傳資料內容  "
      ],
      "execution_count": 14,
      "outputs": [
        {
          "output_type": "stream",
          "name": "stdout",
          "text": [
            "(6, 2)\n",
            "---\n",
            "             num\n",
            "count   6.000000\n",
            "mean   23.666667\n",
            "std    22.393451\n",
            "min     6.000000\n",
            "25%     9.000000\n",
            "50%    12.000000\n",
            "75%    37.500000\n",
            "max    58.000000\n",
            "---\n",
            "   groups  num\n",
            "0  Movies   46\n",
            "1  Sports    8\n",
            "2  Coding   12\n",
            "---\n",
            "    groups  num\n",
            "3  Fishing   12\n",
            "4  Dancing    6\n",
            "5  cooking   58\n",
            "---\n",
            "Index(['groups', 'num'], dtype='object')\n",
            "---\n",
            "RangeIndex(start=0, stop=6, step=1)\n",
            "---\n",
            "<bound method DataFrame.info of     groups  num\n",
            "0   Movies   46\n",
            "1   Sports    8\n",
            "2   Coding   12\n",
            "3  Fishing   12\n",
            "4  Dancing    6\n",
            "5  cooking   58>\n"
          ]
        }
      ]
    },
    {
      "cell_type": "markdown",
      "metadata": {
        "id": "2wAzp9YQDFcn"
      },
      "source": [
        "# 資料選擇與篩選\n",
        "可以透過下列方法選擇元素\n",
        "\n",
        "*   中括號 [] 選擇元素\n",
        "*   將變數當作屬性選擇\n",
        "*   .loc .iloc 方法選擇\n",
        "*   使用布林值篩選\n",
        "\n"
      ]
    },
    {
      "cell_type": "code",
      "metadata": {
        "colab": {
          "base_uri": "https://localhost:8080/"
        },
        "id": "41CBXPRqDmHz",
        "outputId": "66f10468-f7a2-4712-d05b-1bdc555724cc"
      },
      "source": [
        "# Pandas 透過使用中括號 [] 與 .iloc 可以很靈活地從 data frame 中選擇想要的元素\n",
        "# Python 在指定 0:1 時不包含 1，在指定 0:2 時不包含 2\n",
        "\n",
        "import pandas as pd\n",
        "\n",
        "groups = [\"Movies\", \"Sports\", \"Coding\", \"Fishing\", \"Dancing\", \"cooking\"]  \n",
        "num = [46, 8, 12, 12, 6, 58]\n",
        "\n",
        "dict = {\"groups\": groups,  \n",
        "        \"num\": num\n",
        "       }\n",
        "\n",
        "select_df = pd.DataFrame(dict)\n",
        "\n",
        "print(select_df.iloc[0, 1]) # 第一列第二欄：組的人數  \n",
        "print(\"-第一列：組的組名與人數--\")  \n",
        "print(select_df.iloc[0:1,:]) # 第一列：組的組名與人數  \n",
        "print(\"-第二欄：各組的人數--\")  \n",
        "print(select_df.iloc[:,1]) # 第二欄：各組的人數  \n",
        "print(\"-各組的人數-（用list[]取值）-\")  \n",
        "print(select_df[\"num\"]) # 各組的人數  \n",
        "print(\"-各組的人數-（用方法取值）-\")  \n",
        "print(select_df.num) # 各組的人數  "
      ],
      "execution_count": 17,
      "outputs": [
        {
          "output_type": "stream",
          "name": "stdout",
          "text": [
            "46\n",
            "-第一列：組的組名與人數--\n",
            "   groups  num\n",
            "0  Movies   46\n",
            "-第二欄：各組的人數--\n",
            "0    46\n",
            "1     8\n",
            "2    12\n",
            "3    12\n",
            "4     6\n",
            "5    58\n",
            "Name: num, dtype: int64\n",
            "-各組的人數-（用list[]取值）-\n",
            "0    46\n",
            "1     8\n",
            "2    12\n",
            "3    12\n",
            "4     6\n",
            "5    58\n",
            "Name: num, dtype: int64\n",
            "-各組的人數-（用方法取值）-\n",
            "0    46\n",
            "1     8\n",
            "2    12\n",
            "3    12\n",
            "4     6\n",
            "5    58\n",
            "Name: num, dtype: int64\n"
          ]
        }
      ]
    },
    {
      "cell_type": "markdown",
      "metadata": {
        "id": "zg8akHynFRX1"
      },
      "source": [
        "# 使用布林值來做篩選"
      ]
    },
    {
      "cell_type": "code",
      "metadata": {
        "colab": {
          "base_uri": "https://localhost:8080/"
        },
        "id": "S0OXP1m5FTbT",
        "outputId": "5d8e435c-aa96-4c60-fde0-99f5b8b7a8a7"
      },
      "source": [
        "import pandas as pd\n",
        "\n",
        "groups = [\"Movies\", \"Sports\", \"Coding\", \"Fishing\", \"Dancing\", \"cooking\"]  \n",
        "num = [46, 8, 12, 12, 6, 58]\n",
        "\n",
        "dict = {\"groups\": groups,  \n",
        "        \"num\": num\n",
        "        }\n",
        "\n",
        "select_df = pd.DataFrame(dict)\n",
        "\n",
        "out_df = select_df[select_df.loc[:,\"num\"] > 10] # 選出人數超過 10 的群組  \n",
        "print(out_df)  "
      ],
      "execution_count": 18,
      "outputs": [
        {
          "output_type": "stream",
          "name": "stdout",
          "text": [
            "    groups  num\n",
            "0   Movies   46\n",
            "2   Coding   12\n",
            "3  Fishing   12\n",
            "5  cooking   58\n"
          ]
        }
      ]
    },
    {
      "cell_type": "markdown",
      "metadata": {
        "id": "vQ5d_cwiFZWJ"
      },
      "source": [
        "❖ 資料排序\n",
        "可以使用的方法如下：\n",
        "\n",
        "\n",
        "\n",
        "*   .sort_index()\n",
        "*   .sort_values()\n",
        "\n",
        "\n",
        "\n"
      ]
    },
    {
      "cell_type": "code",
      "metadata": {
        "colab": {
          "base_uri": "https://localhost:8080/",
          "height": 235
        },
        "id": "0yVahSukFgly",
        "outputId": "eeb96a2d-c4fb-4ff9-b1f3-391760a9d886"
      },
      "source": [
        "import pandas as pd # 引用套件並縮寫為 pd\n",
        "\n",
        "groups = [\"Movies\", \"Sports\", \"Coding\", \"Fishing\", \"Dancing\", \"Cooking\"]  \n",
        "num = [46, 8, 12, 12, 6, 58]\n",
        "\n",
        "dict = {\"groups\": groups,  \n",
        "        \"num\": num\n",
        "        }\n",
        "\n",
        "\n",
        "select_df = pd.DataFrame(dict)\n",
        "\n",
        "select_df.sort_index(axis = 0, ascending = True) # 透過索引值做排序，axis 可以指定第幾欄，ascending 用於設定升冪(ascending)或降密(decending)  "
      ],
      "execution_count": 26,
      "outputs": [
        {
          "output_type": "execute_result",
          "data": {
            "text/html": [
              "<div>\n",
              "<style scoped>\n",
              "    .dataframe tbody tr th:only-of-type {\n",
              "        vertical-align: middle;\n",
              "    }\n",
              "\n",
              "    .dataframe tbody tr th {\n",
              "        vertical-align: top;\n",
              "    }\n",
              "\n",
              "    .dataframe thead th {\n",
              "        text-align: right;\n",
              "    }\n",
              "</style>\n",
              "<table border=\"1\" class=\"dataframe\">\n",
              "  <thead>\n",
              "    <tr style=\"text-align: right;\">\n",
              "      <th></th>\n",
              "      <th>groups</th>\n",
              "      <th>num</th>\n",
              "    </tr>\n",
              "  </thead>\n",
              "  <tbody>\n",
              "    <tr>\n",
              "      <th>0</th>\n",
              "      <td>Movies</td>\n",
              "      <td>46</td>\n",
              "    </tr>\n",
              "    <tr>\n",
              "      <th>1</th>\n",
              "      <td>Sports</td>\n",
              "      <td>8</td>\n",
              "    </tr>\n",
              "    <tr>\n",
              "      <th>2</th>\n",
              "      <td>Coding</td>\n",
              "      <td>12</td>\n",
              "    </tr>\n",
              "    <tr>\n",
              "      <th>3</th>\n",
              "      <td>Fishing</td>\n",
              "      <td>12</td>\n",
              "    </tr>\n",
              "    <tr>\n",
              "      <th>4</th>\n",
              "      <td>Dancing</td>\n",
              "      <td>6</td>\n",
              "    </tr>\n",
              "    <tr>\n",
              "      <th>5</th>\n",
              "      <td>Cooking</td>\n",
              "      <td>58</td>\n",
              "    </tr>\n",
              "  </tbody>\n",
              "</table>\n",
              "</div>"
            ],
            "text/plain": [
              "    groups  num\n",
              "0   Movies   46\n",
              "1   Sports    8\n",
              "2   Coding   12\n",
              "3  Fishing   12\n",
              "4  Dancing    6\n",
              "5  Cooking   58"
            ]
          },
          "metadata": {},
          "execution_count": 26
        }
      ]
    },
    {
      "cell_type": "code",
      "metadata": {
        "colab": {
          "base_uri": "https://localhost:8080/",
          "height": 235
        },
        "id": "mCazujB4GAZG",
        "outputId": "141771dd-dcc1-4238-b122-66bbbe4d2275"
      },
      "source": [
        "import pandas as pd # 引用套件並縮寫為 pd\n",
        "\n",
        "groups = [\"Movies\", \"Sports\", \"Coding\", \"Fishing\", \"Dancing\", \"cooking\"]  \n",
        "num = [46, 8, 12, 12, 6, 58]\n",
        "\n",
        "dict = {\"groups\": groups,  \n",
        "        \"num\": num\n",
        "        }\n",
        "\n",
        "\n",
        "select_df = pd.DataFrame(dict)\n",
        "\n",
        "select_df.sort_values(by = 'num') #透過指定欄位的數值排序 "
      ],
      "execution_count": 23,
      "outputs": [
        {
          "output_type": "execute_result",
          "data": {
            "text/html": [
              "<div>\n",
              "<style scoped>\n",
              "    .dataframe tbody tr th:only-of-type {\n",
              "        vertical-align: middle;\n",
              "    }\n",
              "\n",
              "    .dataframe tbody tr th {\n",
              "        vertical-align: top;\n",
              "    }\n",
              "\n",
              "    .dataframe thead th {\n",
              "        text-align: right;\n",
              "    }\n",
              "</style>\n",
              "<table border=\"1\" class=\"dataframe\">\n",
              "  <thead>\n",
              "    <tr style=\"text-align: right;\">\n",
              "      <th></th>\n",
              "      <th>groups</th>\n",
              "      <th>num</th>\n",
              "    </tr>\n",
              "  </thead>\n",
              "  <tbody>\n",
              "    <tr>\n",
              "      <th>4</th>\n",
              "      <td>Dancing</td>\n",
              "      <td>6</td>\n",
              "    </tr>\n",
              "    <tr>\n",
              "      <th>1</th>\n",
              "      <td>Sports</td>\n",
              "      <td>8</td>\n",
              "    </tr>\n",
              "    <tr>\n",
              "      <th>2</th>\n",
              "      <td>Coding</td>\n",
              "      <td>12</td>\n",
              "    </tr>\n",
              "    <tr>\n",
              "      <th>3</th>\n",
              "      <td>Fishing</td>\n",
              "      <td>12</td>\n",
              "    </tr>\n",
              "    <tr>\n",
              "      <th>0</th>\n",
              "      <td>Movies</td>\n",
              "      <td>46</td>\n",
              "    </tr>\n",
              "    <tr>\n",
              "      <th>5</th>\n",
              "      <td>cooking</td>\n",
              "      <td>58</td>\n",
              "    </tr>\n",
              "  </tbody>\n",
              "</table>\n",
              "</div>"
            ],
            "text/plain": [
              "    groups  num\n",
              "4  Dancing    6\n",
              "1   Sports    8\n",
              "2   Coding   12\n",
              "3  Fishing   12\n",
              "0   Movies   46\n",
              "5  cooking   58"
            ]
          },
          "metadata": {},
          "execution_count": 23
        }
      ]
    },
    {
      "cell_type": "markdown",
      "metadata": {
        "id": "kkjPi9FJGOzW"
      },
      "source": [
        "# 2.3 DataFrame 處理遺漏值\n",
        "❖ 判斷是否為空值\n",
        "可以使用下列兩種方法來判斷：\n",
        "\n",
        "*   isnull()\n",
        "*   notnull()\n",
        "\n",
        "下列程式我們先讀取一個 CSV 檔案，檔案內的欄位部分會有空值，檔案連結 大家可以自行下載"
      ]
    },
    {
      "cell_type": "code",
      "metadata": {
        "colab": {
          "base_uri": "https://localhost:8080/"
        },
        "id": "E4SCZhGSGa1H",
        "outputId": "32341c20-f96c-4382-ce2e-c4abaad0c157"
      },
      "source": [
        "from google.colab import drive\n",
        "import pandas as pd   \n",
        "drive.mount('/content/drive') \n",
        "\n",
        "# 引用套件並縮寫為 pd \n",
        "# 讀取 CSV File\n",
        "data4 = pd.read_csv('/content/drive/MyDrive/致理-1101資三A-智慧投資程式設計/Colab Notebooks/給同學的教材/data/shop_list2.csv')  \n",
        "\n",
        "# 讀取後放入 DataFrame\n",
        "select_df = pd.DataFrame(data4)\n",
        "\n",
        "print(select_df.loc[:, \"shop name\"].isnull()) # 判斷哪些店名是遺失值  \n",
        "print(\"---\")  \n",
        "print(select_df.loc[:, \"maket size\"].notnull()) # 判斷哪些市場規模不是遺失值\n",
        "\n",
        "# 可以透過 ix 方法（利用索引值或欄位）選擇 data frame 區段"
      ],
      "execution_count": 41,
      "outputs": [
        {
          "output_type": "stream",
          "name": "stdout",
          "text": [
            "Drive already mounted at /content/drive; to attempt to forcibly remount, call drive.mount(\"/content/drive\", force_remount=True).\n",
            "0    False\n",
            "1    False\n",
            "2     True\n",
            "3    False\n",
            "4    False\n",
            "Name: shop name, dtype: bool\n",
            "---\n",
            "0     True\n",
            "1     True\n",
            "2     True\n",
            "3     True\n",
            "4    False\n",
            "Name: maket size, dtype: bool\n"
          ]
        }
      ]
    },
    {
      "cell_type": "markdown",
      "metadata": {
        "id": "bim1WZ3PI1eb"
      },
      "source": [
        "# 處理空值\n",
        "可以使用下列兩種方法來填補空值：\n",
        "\n",
        "*   dropna()\n",
        "*   fillna()\n",
        "\n",
        "\n"
      ]
    },
    {
      "cell_type": "markdown",
      "metadata": {
        "id": "4VqXs6FSNCVc"
      },
      "source": [
        "#使用注意事項\n",
        "\n",
        "#時間限制\n",
        "Colab在記事本閒置過久的時候會主動中斷連結，這時候已執行的結果都會被清空，請注意 存檔 以及 另存需要長時間訓練的模型參數資料。\n",
        "\n",
        "#記憶體容量\n",
        "當使用到大量的記憶體空間的時候，colab有可能會因為記憶體不足而導致崩潰(kernel died)，這時候也會導致所有的已執行的結果被清空，請切記 存檔。"
      ]
    },
    {
      "cell_type": "code",
      "metadata": {
        "colab": {
          "base_uri": "https://localhost:8080/"
        },
        "id": "hf3bRg5MI90l",
        "outputId": "028731f7-bc36-4446-9502-41d895b6addf"
      },
      "source": [
        "from google.colab import drive\n",
        "import pandas as pd   \n",
        "drive.mount('/content/drive') \n",
        "\n",
        "# 引用套件並縮寫為 pd \n",
        "# 讀取 CSV File\n",
        "data4 = pd.read_csv('/content/drive/MyDrive/致理-1101資三A-智慧投資程式設計/Colab Notebooks/給同學的教材/data/shop_list2.csv')  \n",
        "print(df)\n",
        "\n",
        "# 讀取後放入 DataFrame\n",
        "select_df = pd.DataFrame(df)\n",
        "\n",
        "drop_value = select_df.dropna() # 有遺失值的觀測值都刪除  \n",
        "print(drop_value)  \n",
        "print(\"---\")  \n",
        "filled_value = select_df.fillna(0) # 有遺失值的觀測值填補 0  \n",
        "print(filled_value)  \n",
        "print(\"---\")  \n",
        "filled_value_column = select_df.fillna({\"shop name\": \"NULL\", \"maket size\": 0}) # 依欄位填補遺失值  \n",
        "print(filled_value_column)  "
      ],
      "execution_count": 42,
      "outputs": [
        {
          "output_type": "stream",
          "name": "stdout",
          "text": [
            "Drive already mounted at /content/drive; to attempt to forcibly remount, call drive.mount(\"/content/drive\", force_remount=True).\n",
            "      name  num\n",
            "0   Movies   46\n",
            "1   Sports    8\n",
            "2   Coding   12\n",
            "3  Fishing   12\n",
            "4  Dancing    6\n",
            "5  cooking    8\n",
            "      name  num\n",
            "0   Movies   46\n",
            "1   Sports    8\n",
            "2   Coding   12\n",
            "3  Fishing   12\n",
            "4  Dancing    6\n",
            "5  cooking    8\n",
            "---\n",
            "      name  num\n",
            "0   Movies   46\n",
            "1   Sports    8\n",
            "2   Coding   12\n",
            "3  Fishing   12\n",
            "4  Dancing    6\n",
            "5  cooking    8\n",
            "---\n",
            "      name  num\n",
            "0   Movies   46\n",
            "1   Sports    8\n",
            "2   Coding   12\n",
            "3  Fishing   12\n",
            "4  Dancing    6\n",
            "5  cooking    8\n"
          ]
        }
      ]
    }
  ]
}