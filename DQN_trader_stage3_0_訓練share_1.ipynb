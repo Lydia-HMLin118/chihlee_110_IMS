{
  "nbformat": 4,
  "nbformat_minor": 0,
  "metadata": {
    "colab": {
      "name": "DQN_trader_stage3.0_訓練share_1.ipynb",
      "provenance": [],
      "collapsed_sections": [],
      "include_colab_link": true
    },
    "kernelspec": {
      "name": "python3",
      "display_name": "Python 3"
    },
    "accelerator": "GPU"
  },
  "cells": [
    {
      "cell_type": "markdown",
      "metadata": {
        "id": "view-in-github",
        "colab_type": "text"
      },
      "source": [
        "<a href=\"https://colab.research.google.com/github/Lydia-HMLin118/chihlee_110_IMS/blob/main/DQN_trader_stage3_0_%E8%A8%93%E7%B7%B4share_1.ipynb\" target=\"_parent\"><img src=\"https://colab.research.google.com/assets/colab-badge.svg\" alt=\"Open In Colab\"/></a>"
      ]
    },
    {
      "cell_type": "markdown",
      "metadata": {
        "id": "hvt3RguHyJpA"
      },
      "source": [
        "# 盤中程式自動交易DQN_訓練"
      ]
    },
    {
      "cell_type": "markdown",
      "source": [
        "交易標的為台指期,模型為DQN, 訓練及測試資料為證交所每五秒交易紀錄資料.目標為DQN模型在盤中依照即時指數變化自動交易(hold,buy,sell),交易後(buy/sell)以Line通知交易價格及數量,並每日彙整交易報表,程式分訓練及測試2部"
      ],
      "metadata": {
        "id": "YajpBc2iCtK6"
      }
    },
    {
      "cell_type": "code",
      "metadata": {
        "id": "mI0Mz60uyEi7"
      },
      "source": [
        "#!pip install pandas-datareader"
      ],
      "execution_count": 1,
      "outputs": []
    },
    {
      "cell_type": "code",
      "metadata": {
        "id": "uGvqSuy4wWKo",
        "colab": {
          "base_uri": "https://localhost:8080/"
        },
        "outputId": "2046a99a-dd72-475e-a8c4-aa05194b72e5"
      },
      "source": [
        "from google.colab import drive\n",
        "drive.mount('/content/gdrive')"
      ],
      "execution_count": 2,
      "outputs": [
        {
          "output_type": "stream",
          "name": "stdout",
          "text": [
            "Mounted at /content/gdrive\n"
          ]
        }
      ]
    },
    {
      "cell_type": "code",
      "metadata": {
        "id": "K1z7xVeqEzQR"
      },
      "source": [
        "import math\n",
        "import random\n",
        "import numpy as np\n",
        "import pandas as pd\n",
        "import tensorflow as tf\n",
        "import matplotlib.pyplot as plt\n",
        "import pandas_datareader as data_reader\n",
        "import xgboost as xgb\n",
        "from tqdm import tqdm_notebook, tqdm\n",
        "from collections import deque\n",
        "import pickle\n",
        "from sklearn.metrics import mean_absolute_error\n",
        "from sklearn.preprocessing import StandardScaler\n",
        "from functools import lru_cache\n",
        "\n",
        "from datetime import timedelta, date, datetime\n",
        "import time\n",
        "import requests\n",
        "from io import StringIO\n",
        "from keras.models import load_model\n",
        "import pickle\n",
        "import math\n",
        "import os"
      ],
      "execution_count": 3,
      "outputs": []
    },
    {
      "cell_type": "code",
      "metadata": {
        "id": "vm4bf_P5yItm"
      },
      "source": [
        "# 證交所指數檔案下載function\n",
        "# 證交所參考URL: https://www.twse.com.tw/exchangeReport/MI_5MINS_INDEX?response=csv&date=20201019    \n",
        "def TWSE_INDEX_Crawler(date): # 下載每五秒台股指數資料\n",
        "    df = pd.DataFrame()\n",
        "    try:\n",
        "        url = f'https://www.twse.com.tw/exchangeReport/MI_5MINS_INDEX?response=csv&date={date}'\n",
        "        res = requests.get(url)\n",
        "        if res.text != '\\r\\n':\n",
        "          df = pd.read_csv(StringIO(res.text.replace('=','')), header=1)\n",
        "          df = df.loc[0:3240,['時間','發行量加權股價指數' ]]\n",
        "          df['時間']= date+' '+ df['時間']\n",
        "          df['時間']=pd.to_datetime(df['時間'])\n",
        "    except:\n",
        "        df = pd.DataFrame()\n",
        "    time.sleep(5)\n",
        "    return df     "
      ],
      "execution_count": 4,
      "outputs": []
    },
    {
      "cell_type": "code",
      "metadata": {
        "id": "a3vw2O3SQc0w",
        "colab": {
          "base_uri": "https://localhost:8080/"
        },
        "outputId": "785a39c3-e4dd-44cd-be4f-7b7060314c2a"
      },
      "source": [
        "# 設定爬蟲起止日\n",
        "start_date = '2020-05-20'\n",
        "end_date   =  '2020-10-26'\n",
        "# 轉換為datetime格式\n",
        "st_date = datetime.strptime(start_date, \"%Y-%m-%d\")\n",
        "ed_date = datetime.strptime(end_date, \"%Y-%m-%d\")\n",
        "print(st_date,ed_date) "
      ],
      "execution_count": 5,
      "outputs": [
        {
          "output_type": "stream",
          "name": "stdout",
          "text": [
            "2020-05-20 00:00:00 2020-10-26 00:00:00\n"
          ]
        }
      ]
    },
    {
      "cell_type": "code",
      "metadata": {
        "id": "JujEQj_7_6Hk"
      },
      "source": [
        "# 開始爬蟲取得資料\n",
        "df_crawlered = pd.DataFrame(columns=['時間','發行量加權股價指數' ])\n",
        "while st_date <= ed_date:\n",
        "  if st_date.weekday() in [0,1,2,3,4]:\n",
        "    date_str = st_date.strftime(\"%Y%m%d\")\n",
        "    temp_df = TWSE_INDEX_Crawler(date_str)\n",
        "    df_crawlered=df_crawlered.append(temp_df, ignore_index=True)\n",
        "    if st_date.weekday() == 4: #分次寫入csv避免出問題時全部重來\n",
        "      df_crawlered.to_csv('/content/gdrive/My Drive/twse_index.csv')\n",
        "  st_date += timedelta(days=1)\n",
        "\n",
        "\n"
      ],
      "execution_count": null,
      "outputs": []
    },
    {
      "cell_type": "code",
      "metadata": {
        "id": "4hgVT8y_ntRc"
      },
      "source": [
        "df_crawlered = pd.read_csv('/content/gdrive/My Drive/twse_index.csv',index_col=0, dtype={'時間': 'str', '發行量加權股價指數': 'str'}, parse_dates=['時間'])"
      ],
      "execution_count": null,
      "outputs": []
    },
    {
      "cell_type": "code",
      "metadata": {
        "id": "jVoFMdXT9xY2"
      },
      "source": [
        "# 去除','並將str轉成float\n",
        "df_crawlered['發行量加權股價指數']= list(map(float, [item.replace(',','') for item in df_crawlered['發行量加權股價指數'] ]))"
      ],
      "execution_count": null,
      "outputs": []
    },
    {
      "cell_type": "code",
      "metadata": {
        "id": "DzkeRyPz4m03"
      },
      "source": [
        "# 檢查有無空值\n",
        "df_crawlered.isnull().sum()"
      ],
      "execution_count": null,
      "outputs": []
    },
    {
      "cell_type": "code",
      "metadata": {
        "id": "w5-KNqNTGXfP"
      },
      "source": [
        "#@lru_cache(maxsize=1024) #增加記憶體加速\n",
        "def sigmoid(x): #將數值壓縮在0-1之間,降低太大太小值的影響\n",
        "  return 1 / (1 + math.exp(-x))\n",
        "\n",
        "\n",
        "\n",
        "def stocks_price_format(n): # 將格式調為小數點後兩位\n",
        "  if n < 0:\n",
        "    return \"- $ {0:2f}\".format(abs(n))\n",
        "  else:\n",
        "    return \"$ {0:2f}\".format(abs(n))"
      ],
      "execution_count": null,
      "outputs": []
    },
    {
      "cell_type": "code",
      "metadata": {
        "id": "jtK8umokKxTP"
      },
      "source": [
        "df_crawlered"
      ],
      "execution_count": null,
      "outputs": []
    },
    {
      "cell_type": "code",
      "metadata": {
        "id": "2Kht9yYo2Xs9"
      },
      "source": [
        "#df_crawlered_10sec =df_crawlered[df_crawlered.index%2 ==0].copy().reset_index(drop=True) #想調整資料口徑可參考此範例:由每5秒一筆轉為每10秒一筆"
      ],
      "execution_count": null,
      "outputs": []
    },
    {
      "cell_type": "code",
      "metadata": {
        "id": "Izynea3_VfG3"
      },
      "source": [
        "#準備漲跌幅及實際台股指數\n",
        "sigmoid_df= df_crawlered['發行量加權股價指數']-df_crawlered['發行量加權股價指數'].shift(1) #取漲跌幅值\n",
        "sigmoid_df[0,0]=0 #將第一個值設為0\n",
        "sigmoid_df = sigmoid_df.map(sigmoid) #轉換,將漲跌幅壓到0-1之間,漲跌幅為0時轉換後的值為0.5\n",
        "\n",
        "actual_price_df = df_crawlered['發行量加權股價指數'].values # 實際台指指數"
      ],
      "execution_count": null,
      "outputs": []
    },
    {
      "cell_type": "code",
      "source": [
        "print(f'max: {sigmoid_df.max()}, min: {sigmoid_df.min()}')"
      ],
      "metadata": {
        "id": "KSNFj8QNqH0b"
      },
      "execution_count": null,
      "outputs": []
    },
    {
      "cell_type": "code",
      "metadata": {
        "id": "LisWWXaLOaRX"
      },
      "source": [
        "sigmoid_df"
      ],
      "execution_count": null,
      "outputs": []
    },
    {
      "cell_type": "code",
      "metadata": {
        "id": "lhAOI7m7WuB7"
      },
      "source": [
        "actual_price_df"
      ],
      "execution_count": null,
      "outputs": []
    },
    {
      "cell_type": "code",
      "source": [
        "len(actual_price_df)"
      ],
      "metadata": {
        "id": "Tltu4fMszbBi"
      },
      "execution_count": null,
      "outputs": []
    },
    {
      "cell_type": "code",
      "metadata": {
        "id": "DxE7shp0HHBJ"
      },
      "source": [
        "# 調整參數\n",
        "window_size = 360 # 依照window_size 32筆資料做預測 \n",
        "episodes = 10 # 看完全部訓練資料次數\n",
        "batch_size = 64 # 每次DNN模型訓練使用最新64筆memory\n",
        "max_inventory = 30 # 設定程式自動買賣最大允許庫存\n"
      ],
      "execution_count": null,
      "outputs": []
    },
    {
      "cell_type": "code",
      "metadata": {
        "id": "oX43kciFQDg0"
      },
      "source": [
        "# 分割train\n",
        "train_ratio = 0.8 # 資料80%用於訓練\n",
        "sep_idx = int(df_crawlered.shape[0]*train_ratio)\n",
        "sep_idx\n"
      ],
      "execution_count": null,
      "outputs": []
    },
    {
      "cell_type": "code",
      "metadata": {
        "id": "KSYcFleFeF7O"
      },
      "source": [
        "df_train = sigmoid_df[:sep_idx].copy()#.reset_index(drop=True)"
      ],
      "execution_count": null,
      "outputs": []
    },
    {
      "cell_type": "code",
      "source": [
        "len(df_train)"
      ],
      "metadata": {
        "id": "opFNXC3i2Lb3"
      },
      "execution_count": null,
      "outputs": []
    },
    {
      "cell_type": "code",
      "metadata": {
        "id": "morTF0x0E8CM"
      },
      "source": [
        "class DQN_trader():\n",
        "  \n",
        "  def __init__(self, state_size, action_num=3, model_name=\"DQN_trader\"): # state_size指要看過去window_size個的價格（window_size)\n",
        "    \n",
        "    self.state_size = state_size\n",
        "    self.action_num = action_num # number = 3 (hold, buy, sell)\n",
        "    self.memory = deque(maxlen=2000) # 記憶最大2000組\n",
        "    self.inventory = [] \n",
        "    self.model_name = model_name\n",
        "    \n",
        "    self.gamma = 0.618 # 下次reward的預測值的threshold值\n",
        "    self.epsilon = 1.0 # 隨機選擇行動或依照預測值選擇行動的threshold\n",
        "    self.epsilon_final = 0.01 # 設定threshold最低值\n",
        "    self.epsilon_decay = 0.995 # 每次epsilon遞減比率, 這裡設定每次遞減千分之五\n",
        "    \n",
        "    self.model = self.model_dnn()\n",
        "    \n",
        "  def model_dnn(self): # dnn模型\n",
        "    \n",
        "    model = tf.keras.models.Sequential()\n",
        "    \n",
        "    model.add(tf.keras.layers.Dense(units=128, activation='relu', input_dim=self.state_size))\n",
        "    \n",
        "    model.add(tf.keras.layers.Dense(units=128, activation='relu'))\n",
        "\n",
        "    model.add(tf.keras.layers.Dense(units=64, activation='relu'))\n",
        "    \n",
        "    model.add(tf.keras.layers.Dense(units=64, activation='relu'))\n",
        "    \n",
        "    model.add(tf.keras.layers.Dense(units=32, activation='relu'))\n",
        "    \n",
        "    model.add(tf.keras.layers.Dense(units=self.action_num, activation='linear'))\n",
        "    # 輸出3個linear值,另以argmax選擇行動選項\n",
        "    model.compile(loss='mse', optimizer=tf.keras.optimizers.Adam(lr=1e-3))\n",
        "    return model\n",
        "\n",
        "  def trade(self, state):\n",
        "    # 隨機選擇行動或依照預測值選擇行動\n",
        "    \n",
        "    if random.random() <= self.epsilon: # epsilon在每次dnn訓練後會減少千分之5讓隨機決策交易行動的機會降低\n",
        "      return random.randrange(self.action_num)\n",
        "    \n",
        "    actions = self.model.predict(state)\n",
        "    return np.argmax(actions[0]) #predict出三組數字然後argmax產出0,1,2三個數字 #0Hold, 1Buy, 2Sell\n",
        "  \n",
        "  @lru_cache(maxsize=1024) #使用cache加快計算\n",
        "  def batch_train(self, batch_size): # 訓練dnn\n",
        "    \n",
        "    batch = []\n",
        "    for i in range(len(self.memory) - batch_size + 1, len(self.memory)):\n",
        "      batch.append(self.memory[i]) # 取出最新64筆memory(batch_size筆), 每個memory包含5個items\n",
        "      \n",
        "    for curr_state, action, reward, next_state, done in batch: # 取出每筆memory的五個items\n",
        "      reward = reward\n",
        "      if not done:\n",
        "        reward = reward + self.gamma * np.amax(self.model.predict(next_state)[0])#引導模型往這次＋預期下次最大reward方向擬合\n",
        "      target = self.model.predict(curr_state)\n",
        "      target[0][action] = reward\n",
        "      \n",
        "      self.model.fit(curr_state, target, epochs=1, verbose=0) #訓練模型來做預測\n",
        "      \n",
        "    if self.epsilon > self.epsilon_final: # final值為0.01\n",
        "      self.epsilon *= self.epsilon_decay # epsilon初始值1, 每次遞減千分之五"
      ],
      "execution_count": null,
      "outputs": []
    },
    {
      "cell_type": "code",
      "metadata": {
        "id": "fwHxqKPAHKIr"
      },
      "source": [
        "trader = DQN_trader(window_size) # window_size用來設定DNN的輸入dimension"
      ],
      "execution_count": null,
      "outputs": []
    },
    {
      "cell_type": "code",
      "metadata": {
        "id": "4fGD3-h0TUqU"
      },
      "source": [
        "trader.model.summary() # 輸出3個linear數字（訓練時3個數字的y值為環境reward)"
      ],
      "execution_count": null,
      "outputs": []
    },
    {
      "cell_type": "code",
      "metadata": {
        "id": "g5Xy-JhI0toz"
      },
      "source": [
        "# reocord the history of total profit\n",
        "history_total_profit=pd.DataFrame(columns = ['episode', 'total_profit', 'buy', 'sell','unsold'])"
      ],
      "execution_count": null,
      "outputs": []
    },
    {
      "cell_type": "code",
      "metadata": {
        "id": "Jn4lW3n0TWo8"
      },
      "source": [
        "# training\n",
        "now_start = datetime.now()\n",
        "\n",
        "data = df_train.values\n",
        "\n",
        "\n",
        "for episode in range(1, episodes + 1):\n",
        "  \n",
        "  print(\"Episode: {}/{}\".format(episode, episodes))\n",
        "  \n",
        "  #產出第一個state\n",
        "  state = deque([data[0] for i in range(window_size)], maxlen = window_size) # 初始state為32個data[0]\n",
        "  total_profit = 0\n",
        "  trader.inventory = []\n",
        "  buy_count, sell_count = 0, 0\n",
        "  reward = 0\n",
        "\n",
        "  #開始訓練\n",
        "  for timestep in tqdm(range(1,len(data))): # 走完訓練資料, tqdm顯示進度  \n",
        "    curr_state = np.array(state).reshape(-1, window_size) \n",
        "    action = trader.trade(curr_state) # 產出第一個action(0,1,2),可能是隨機,也可能是模型預測  \n",
        "    state.append(data[timestep]) #加入一個新data擠出最舊data\n",
        "    next_state = np.array(state).reshape(-1, window_size) \n",
        "    if action == 1 and len(trader.inventory) < max_inventory : #Buying     \n",
        "      trader.inventory.append(actual_price_df[timestep])\n",
        "      #print(\"DQN Trader bought: \", stocks_price_format(actual_price_df[timestep]))\n",
        "      buy_count+=1\n",
        "      \n",
        "    elif action == 2 and len(trader.inventory) > 0: #Selling\n",
        "      buy_price = trader.inventory.pop(0)\n",
        "      sell_count+=1\n",
        "      \n",
        "      reward = max(actual_price_df[timestep] - buy_price, 0) # reward環境回饋, 最小值為0 \n",
        "      total_profit += actual_price_df[timestep] - buy_price # 這裡反應實際賺賠金額\n",
        "      #print(\"DQN Trader sold: \", stocks_price_format(data[timestep]), \" Profit: \" + stocks_price_format(actual_price_df[timestep] - buy_price) )\n",
        "\n",
        "    if timestep == len(data)-1: # 跑到最後一筆資料了\n",
        "      done = True\n",
        "    else:\n",
        "      done = False\n",
        "      \n",
        "    trader.memory.append((curr_state, action, reward, next_state, done))\n",
        "    \n",
        "    if done:\n",
        "      print(\"########################\")\n",
        "      print(f\"Episode {episode}, Total Profit: {total_profit}, Buy: {buy_count}, Sell: {sell_count}, UNSOLD_inventory: {len(trader.inventory)}\")\n",
        "      print(\"########################\")\n",
        "      history_total_profit.loc[len(history_total_profit)]=[episode, total_profit, buy_count, sell_count,len(trader.inventory) ]\n",
        "    \n",
        "    if len(trader.memory) > batch_size: # 如果已經累積跟超過64筆的memory就訓練DNN\n",
        "      trader.batch_train(batch_size)\n",
        "      \n",
        "  if episode % 1 == 0: #每次episode存下DNN模型及交易結果\n",
        "    trader.model.save(\"/content/gdrive/My Drive/DQN股價預測/ai_trader_{}.h5\".format(episode))\n",
        "    history_total_profit.to_csv('/content/gdrive/My Drive/DQN股價預測/history_total_profit.csv',encoding='utf-8', index=False )\n",
        "    # 存檔memory\n",
        "    learned_memory = trader.memory\n",
        "    f = open(\"/content/gdrive/My Drive/DQN股價預測/learned_memory.pkl\",'wb')\n",
        "    pickle.dump(learned_memory, f)\n",
        "    \n"
      ],
      "execution_count": null,
      "outputs": []
    },
    {
      "cell_type": "code",
      "source": [
        "history_total_profit"
      ],
      "metadata": {
        "id": "GLt6bUO36FmW"
      },
      "execution_count": null,
      "outputs": []
    },
    {
      "cell_type": "code",
      "source": [
        "#trader.memory"
      ],
      "metadata": {
        "id": "P4I8o6aCcFyM"
      },
      "execution_count": null,
      "outputs": []
    },
    {
      "cell_type": "code",
      "metadata": {
        "id": "Pxwxu0n4ddW-"
      },
      "source": [
        " \n",
        "# 存檔memory\n",
        "learned_memory = trader.memory\n",
        "f = open(\"/content/gdrive/My Drive/DQN股價預測/learned_memory.pkl\",'wb')\n",
        "pickle.dump(learned_memory, f)\n",
        "\n",
        "now_end = datetime.now()\n",
        "nowsince = now_end-now_start\n",
        "minutessince = int(nowsince.total_seconds() / 60)\n",
        "print(f'total mins used is :{minutessince}') "
      ],
      "execution_count": null,
      "outputs": []
    },
    {
      "cell_type": "code",
      "metadata": {
        "id": "yvRmQPAYrdlW"
      },
      "source": [
        "lm = pickle.load(open('/content/gdrive/My Drive/DQN股價預測/learned_memory.pkl', 'rb')) "
      ],
      "execution_count": null,
      "outputs": []
    },
    {
      "cell_type": "code",
      "metadata": {
        "id": "nnfsydCu2uOP"
      },
      "source": [
        "#len(lm[0][0][0])"
      ],
      "execution_count": null,
      "outputs": []
    },
    {
      "cell_type": "code",
      "source": [
        "lm"
      ],
      "metadata": {
        "id": "K5f2ynTBcT3K"
      },
      "execution_count": null,
      "outputs": []
    },
    {
      "cell_type": "code",
      "metadata": {
        "id": "iU3i-grx3icK"
      },
      "source": [
        ""
      ],
      "execution_count": null,
      "outputs": []
    }
  ]
}