{
  "nbformat": 4,
  "nbformat_minor": 0,
  "metadata": {
    "colab": {
      "name": "week_8.ipynb",
      "provenance": [],
      "collapsed_sections": [
        "ml3o6Qr_0xhv",
        "m4avW_7V485j",
        "Zk3Z0LjLCNWX"
      ],
      "mount_file_id": "1_JxvXsUVAqOiy9W-fvz_SAueOY5GJMiD",
      "authorship_tag": "ABX9TyOuNMSu7bb/TEBfa1WocGyV",
      "include_colab_link": true
    },
    "kernelspec": {
      "name": "python3",
      "display_name": "Python 3"
    },
    "language_info": {
      "name": "python"
    }
  },
  "cells": [
    {
      "cell_type": "markdown",
      "metadata": {
        "id": "view-in-github",
        "colab_type": "text"
      },
      "source": [
        "<a href=\"https://colab.research.google.com/github/Lydia-HMLin118/chihlee_110_IMS/blob/main/week_8.ipynb\" target=\"_parent\"><img src=\"https://colab.research.google.com/assets/colab-badge.svg\" alt=\"Open In Colab\"/></a>"
      ]
    },
    {
      "cell_type": "markdown",
      "metadata": {
        "id": "ml3o6Qr_0xhv"
      },
      "source": [
        "#網路擷取股票數據資源\n",
        "\n",
        "#臺灣證券交易所-公開資訊觀測站\n",
        "https://www.twse.com.tw/zh/\n",
        "\n",
        "\n",
        "#透過 HTTP通訊協定來下載特定的網頁內容，簡而言之，如何透過指定的網址取得該網站的資料。\n",
        "\n",
        "使用 Python 處理 HTTP 通訊協定，需先安裝 requests 套件，再使用 GET 和 POST 兩種方法:\n",
        "```\n",
        "!pip install requests\n",
        "```\n",
        "\n"
      ]
    },
    {
      "cell_type": "markdown",
      "metadata": {
        "id": "taKAmhKT5Qxz"
      },
      "source": [
        "# requests - GET 的用法\n",
        "\n",
        "**GET**方法傳遞參數的方式是將參數放在網址中。\n",
        "\n",
        "```\n",
        "html = requests.get('https://tw.stock.yahoo.com/d/i/rank.php?t=up&e=tse')\n",
        "```\n",
        "\n",
        "\n",
        "\n",
        "#yahoo!股市 即時行情排行\n",
        "https://tw.stock.yahoo.com/d/i/rank.php?t=up&e=tse"
      ]
    },
    {
      "cell_type": "code",
      "metadata": {
        "id": "21awpu-c0tE-"
      },
      "source": [
        "import requests\n",
        "html = requests.get('https://tw.stock.yahoo.com/d/i/rank.php?t=up&e=tse')\n",
        "print (html.text)\n"
      ],
      "execution_count": null,
      "outputs": []
    },
    {
      "cell_type": "markdown",
      "metadata": {
        "id": "y2WZEgOa5DEU"
      },
      "source": [
        "\n",
        "# requests - POST\n",
        "\n",
        "臺灣期貨交易所-期貨每日交易行情查詢\n",
        "\n",
        "https://www.taifex.com.tw/cht/3/futDailyMarketReport\n",
        "\n",
        "透過 Python 來取得該網站的內容，post函數中第一個參數為網址，data參數中放入POST方法要傳遞的參數，該參數的資料型態必須為 dictionary, 操作如下:\n",
        "```\n",
        "html = requests.post('查詢的網址url', data={'queryDate':'2019/09/18'})\n",
        "```\n",
        "\n"
      ]
    },
    {
      "cell_type": "code",
      "metadata": {
        "id": "bg698M6048Ke"
      },
      "source": [
        "import requests\n",
        "html = requests.post('https://www.taifex.com.tw/cht/3/futDailyMarketReport', data={'queryDate':'2019/09/18'})\n",
        "print (html.text)"
      ],
      "execution_count": null,
      "outputs": []
    },
    {
      "cell_type": "markdown",
      "metadata": {
        "id": "m4avW_7V485j"
      },
      "source": [
        "# 讀取 HTML 檔案\n",
        "#方法1 : **Open()** \n",
        "\n",
        "使用python內建函式 **Open()** 開啟且用 **.read()** 讀取文字檔案並進行解析:\n",
        "\n",
        "open(\"檔案名稱\", encoding = 'utf8').read()\n",
        "\n",
        "```\n",
        "data2 = open(\"~/websample.html\", encoding ='utf8').read()\n",
        "```\n",
        "\n"
      ]
    },
    {
      "cell_type": "code",
      "metadata": {
        "colab": {
          "base_uri": "https://localhost:8080/"
        },
        "id": "hmuc48bn81N9",
        "outputId": "2806f6dc-44c9-4517-8d50-20871dd1e3ad"
      },
      "source": [
        "#匯入套件\n",
        "from google.colab import drive\n",
        "import pandas as pd\n",
        "\n",
        "# 此處需要登入google帳號\n",
        "drive.mount('/content/drive') \n",
        "\n",
        "# 獲取授權碼之後輸入即可連動雲端硬碟\n",
        "file_url = \"/content/drive/MyDrive/致理-1101資三A-智慧投資程式設計/Colab Notebooks/給同學的教材/data/websample.html\"\n",
        "data2 = open( file_url, encoding ='utf8').read()\n",
        "\n",
        "\n",
        "print (\"#data2 START#\")\n",
        "print (type(data2))\n",
        "\n",
        "print (data2)\n",
        "print (\"#data2 END#\")\n",
        "\n",
        "#匯入套件\n",
        "from google.colab import drive\n",
        "import pandas as pd\n",
        "\n",
        "# 此處需要登入google帳號\n",
        "drive.mount('/content/drive') \n",
        "\n",
        "# 獲取授權碼之後輸入即可連動雲端硬碟\n",
        "file_url = \"/content/drive/MyDrive/致理-1101資三A-智慧投資程式設計/Colab Notebooks/給同學的教材/data/websample.html\""
      ],
      "execution_count": null,
      "outputs": [
        {
          "output_type": "stream",
          "name": "stdout",
          "text": [
            "Drive already mounted at /content/drive; to attempt to forcibly remount, call drive.mount(\"/content/drive\", force_remount=True).\n",
            "#data2 START#\n",
            "<class 'str'>\n",
            "<html>\n",
            "<head>\n",
            "  <meta http-equiv=\"Content-Type\" content=\"text/html; charset=utf-8\">\n",
            "  <meta http-equiv=\"Content-Style-Type\" content=\"text/css\">\n",
            "  <title></title>\n",
            "  <meta name=\"Generator\" content=\"Cocoa HTML Writer\">\n",
            "  <meta name=\"CocoaVersion\" content=\"2022.6\">\n",
            "  <style type=\"text/css\">\n",
            "    p.p1 {margin: 0.0px 0.0px 0.0px 0.0px; line-height: 20.0px; font: 12.0px '.AppleSystemUIFontMonospaced'; color: #1b1f23; -webkit-text-stroke: #1b1f23}\n",
            "    p.p2 {margin: 0.0px 0.0px 0.0px 0.0px; text-align: right; line-height: 20.0px; font: 12.0px '.AppleSystemUIFontMonospaced'; color: #1b1f23; -webkit-text-stroke: #1b1f23; min-height: 15.0px}\n",
            "    p.p3 {margin: 0.0px 0.0px 0.0px 0.0px; line-height: 20.0px; font: 12.0px '.AppleSystemUIFontMonospaced'; color: #1b1f23; -webkit-text-stroke: #1b1f23; min-height: 15.0px}\n",
            "    span.s1 {font-kerning: none}\n",
            "    table.t1 {background-color: #ffffff; border-collapse: collapse}\n",
            "    td.td1 {width: 131.3px; padding: 0.0px 10.0px 0.0px 10.0px}\n",
            "    td.td2 {width: 131.3px; min-width: 50.0px; padding: 0.0px 10.0px 0.0px 10.0px}\n",
            "    td.td3 {width: 1110.5px; padding: 0.0px 10.0px 0.0px 10.0px}\n",
            "  </style>\n",
            "</head>\n",
            "<body>\n",
            "</body>\n",
            "</html>\n",
            "\n",
            "#data2 END#\n",
            "<html>\n",
            "<head>\n",
            "<meta content=\"text/html; charset=utf-8\" http-equiv=\"Content-Type\"/>\n",
            "<meta content=\"text/css\" http-equiv=\"Content-Style-Type\"/>\n",
            "<title></title>\n",
            "<meta content=\"Cocoa HTML Writer\" name=\"Generator\"/>\n",
            "<meta content=\"2022.6\" name=\"CocoaVersion\"/>\n",
            "<style type=\"text/css\">\n",
            "    p.p1 {margin: 0.0px 0.0px 0.0px 0.0px; line-height: 20.0px; font: 12.0px '.AppleSystemUIFontMonospaced'; color: #1b1f23; -webkit-text-stroke: #1b1f23}\n",
            "    p.p2 {margin: 0.0px 0.0px 0.0px 0.0px; text-align: right; line-height: 20.0px; font: 12.0px '.AppleSystemUIFontMonospaced'; color: #1b1f23; -webkit-text-stroke: #1b1f23; min-height: 15.0px}\n",
            "    p.p3 {margin: 0.0px 0.0px 0.0px 0.0px; line-height: 20.0px; font: 12.0px '.AppleSystemUIFontMonospaced'; color: #1b1f23; -webkit-text-stroke: #1b1f23; min-height: 15.0px}\n",
            "    span.s1 {font-kerning: none}\n",
            "    table.t1 {background-color: #ffffff; border-collapse: collapse}\n",
            "    td.td1 {width: 131.3px; padding: 0.0px 10.0px 0.0px 10.0px}\n",
            "    td.td2 {width: 131.3px; min-width: 50.0px; padding: 0.0px 10.0px 0.0px 10.0px}\n",
            "    td.td3 {width: 1110.5px; padding: 0.0px 10.0px 0.0px 10.0px}\n",
            "  </style>\n",
            "</head>\n",
            "<body>\n",
            "</body>\n",
            "</html>\n",
            "\n"
          ]
        }
      ]
    },
    {
      "cell_type": "markdown",
      "metadata": {
        "id": "Zk3Z0LjLCNWX"
      },
      "source": [
        "# 讀取 HTML 檔案\n",
        "#方法2 : **BeautifulSoup 美味的湯** \n",
        "\n",
        "BeautifulSoup 是一個 Python 的函式庫模組，它其實是透過大量的「正規表示式」來將大量的字串進行分析，可以讓開發者僅須撰寫非常少量的程式碼，就可以快速解析網頁 HTML 碼，從中取出使用者有興趣的資料、去蕪存菁，降低網路爬蟲程式的開發門檻、加快程式撰寫速度。\n",
        "\n",
        "\n",
        "```\n",
        "> pip install bs4\n",
        "\n",
        "```\n",
        "由於該檔案編碼為 utf-8，則開啟檔案時需編碼，加入參數「encoding = 'utf8'」。使用 bs4 套件中的 BeautifulSoup 函數來對 HTML格式進行解析。\n",
        "\n",
        "```\n",
        "soup = BeautifulSoup(open(file_url, encoding = 'utf8'))\n",
        "```\n",
        "\n",
        "常用的函數為: **find(), find_all()**\n"
      ]
    },
    {
      "cell_type": "code",
      "metadata": {
        "colab": {
          "base_uri": "https://localhost:8080/"
        },
        "id": "J-b5xJd2BwdJ",
        "outputId": "1119ee6e-55b4-457b-fc0c-1d851f055702"
      },
      "source": [
        "#匯入套件\n",
        "from google.colab import drive\n",
        "\n",
        "# 此處需要登入google帳號\n",
        "drive.mount('/content/drive') \n",
        "\n",
        "# 獲取授權碼之後輸入即可連動雲端硬碟\n",
        "file_url = \"/content/drive/MyDrive/致理-1101資三A-智慧投資程式設計/Colab Notebooks/給同學的教材/data/websample.html\"\n",
        "\n",
        "from bs4 import BeautifulSoup\n",
        "soup = BeautifulSoup(open(file_url, encoding = 'utf8'))\n",
        "\n",
        "print (type(soup))\n",
        "#print (soup)\n",
        "\n",
        "print (soup.find('title'))\n",
        "print (soup.find_all('meta'))\n",
        "\n",
        "\n"
      ],
      "execution_count": null,
      "outputs": [
        {
          "output_type": "stream",
          "name": "stdout",
          "text": [
            "Drive already mounted at /content/drive; to attempt to forcibly remount, call drive.mount(\"/content/drive\", force_remount=True).\n",
            "<class 'bs4.BeautifulSoup'>\n",
            "<title>範例網站的Title</title>\n",
            "[<meta content=\"text/html; charset=utf-8\" http-equiv=\"Content-Type\"/>, <meta content=\"text/css\" http-equiv=\"Content-Style-Type\"/>, <meta content=\"Cocoa HTML Writer\" name=\"Generator\"/>, <meta content=\"2022.6\" name=\"CocoaVersion\"/>]\n"
          ]
        }
      ]
    },
    {
      "cell_type": "markdown",
      "metadata": {
        "id": "ADTwJpA6EhMH"
      },
      "source": [
        "#BeautifulSoup 套件是對靜態網頁進行擷取。\n",
        "簡言之，HTML文件中的 <tag> 進行分析。\n",
        " \n",
        "#Selenium 套件是對動態網頁進行分析\n",
        "簡言之，網頁中有 Javascript 使用者互動行為的程式語言，Selenium 運作原理透過「模擬瀏覽器」執行的動作，對目標網頁進行資料的存取。\n",
        "\n",
        "在很多爬蟲的情境，需要聯合 Selenium 與 BeautifulSoup 這兩個套件來互相搭配應用，才能取得特定網站的資料。若是某個網站是使用 Javascript 來動態產生網頁資訊，這時候我們就可以透過 Selenium 進入該網頁中，並且透過 Beautifulsoup 進行網頁標籤擷取。\n",
        "\n",
        "# 如何在 Google Colab 中使用 Selenium Webdriver？\n",
        "\n",
        "# Selenium 安裝: 在python裡執行以下程式碼，即可安裝Selenium套件。\n",
        "\n",
        "```\n",
        "!pip install selenium\n",
        "!apt-get update # to update ubuntu to correctly run apt install\n",
        "!apt install chromium-chromedriver # 通過安装chromium 並调整一些選項，使其不會在google colab中崩溃：\n",
        "!cp /usr/lib/chromium-browser/chromedriver /usr/bin\n",
        "import sys\n",
        "sys.path.insert(0,'/usr/lib/chromium-browser/chromedriver')\n",
        "\n",
        "# 透過 Python 的selenium 套件來執行 Webdriver\n",
        "from selenium import webdriver\n",
        "\n",
        "chrome_options = webdriver.ChromeOptions()\n",
        "chrome_options.add_argument('--headless')\n",
        "chrome_options.add_argument('--no-sandbox')\n",
        "chrome_options.add_argument('--disable-dev-shm-usage')\n",
        "\n",
        "wd = webdriver.Chrome('chromedriver',chrome_options=chrome_options)\n",
        "```\n",
        "\n",
        "# Webdriver 下載\n",
        "要使用Selenium爬蟲前，Webdriver是必備的，而不同的瀏覽器會有不同的driver。以下提供四種常見的瀏覽器driver供大家參考及下載。\n",
        "\n",
        "1. Chrome\n",
        "2. Edge\n",
        "3. Firefox\n",
        "4. Safari\n",
        "\n"
      ]
    },
    {
      "cell_type": "code",
      "metadata": {
        "id": "iT-RPDaFH1gC"
      },
      "source": [
        "!pip install selenium\n",
        "!apt-get update # to update ubuntu to correctly run apt install\n",
        "!apt install chromium-chromedriver # 通過安装chromium 並调整一些選項，使其不會在google colab中崩溃：\n",
        "!cp /usr/lib/chromium-browser/chromedriver /usr/bin\n",
        "import sys\n",
        "sys.path.insert(0,'/usr/lib/chromium-browser/chromedriver')\n",
        "\n",
        "# 透過 Python 的selenium 套件來執行 Webdriver\n",
        "from selenium import webdriver\n",
        "\n",
        "chrome_options = webdriver.ChromeOptions()\n",
        "chrome_options.add_argument('--headless') #使用無圖形介面操作，設定 options 為 headless 模式。\n",
        "chrome_options.add_argument('--no-sandbox')\n",
        "chrome_options.add_argument('--disable-dev-shm-usage')\n",
        "\n",
        "wd = webdriver.Chrome('chromedriver',chrome_options=chrome_options)"
      ],
      "execution_count": null,
      "outputs": []
    },
    {
      "cell_type": "markdown",
      "metadata": {
        "id": "g_NPzMyROYdZ"
      },
      "source": [
        " # 執行 selenium 套件來開啟 Webdriver 來讀取網頁內容 \n",
        "\n",
        "Selenium 常用的函數\n",
        "1. get():開啟網頁。\n",
        "2. quit(): 離開網頁。\n",
        "3. back(): 上一頁。\n",
        "4. forward():下一頁。\n",
        "5. refresh(): 重新整理。\n",
        "6. find_element_方法 : 對網頁元素進行定位函數\n",
        "    1. find_element_by_id(): id定位。\n",
        "    2. find_element_by_name(): name 定位。\n",
        "    3. find_element_by_class_name(): class 定位。\n",
        "    4. find_element_by_tag_name(): tag 定位。\n",
        "    5. find_element_by_link_text(): link 定位。\n",
        "    6. find_element_by_partial_link_text(): partial link定位。\n",
        "    7. find_element_by_xpath(): xpath 定位。\n",
        "7. clear():清除網頁。\n",
        "8. send_keys():對元素填入內容。\n",
        "9. click():點擊該元素。\n",
        "10. submit():送出表單。\n",
        "\n",
        "E.g.\n",
        "wd.get(data_url)\n",
        "wd.page_source\n",
        "\n"
      ]
    },
    {
      "cell_type": "markdown",
      "metadata": {
        "id": "fM0kHvw13r1q"
      },
      "source": [
        "#【程式30】\n",
        "# 證交所-個股日本益比、殖利率及股價淨值比\n",
        "\n",
        "台灣證券交易所> 交易資訊 > 盤後資訊 > 個股日本益比、殖利率及股價淨值比（依日期查詢）\n",
        "https://www.twse.com.tw/zh/page/trading/exchange/BWIBBU.html\n",
        "\n",
        "# 個股本益比公式 \n",
        "\n",
        "個股本益比 = 收盤價 /每股參考稅後純益\n",
        "\n",
        "其中，\n",
        "\n",
        "每股參考稅後純益 = 該公司稅後參考純益 /發行參考股數\n",
        "\n",
        "# 殖利率公式\n",
        "\n",
        "殖利率 = 現金股利 / 股價\n",
        "\n",
        "# 股價淨值比公式\n",
        "\n",
        "股價淨值比 = 股價 / 每股淨值\n",
        "\n",
        "\n",
        "date: 日期\n",
        "stockNo: 股票代碼\n"
      ]
    },
    {
      "cell_type": "code",
      "metadata": {
        "colab": {
          "base_uri": "https://localhost:8080/"
        },
        "id": "P1AaPr-UNM1b",
        "outputId": "836bde7f-c316-4891-ccb0-6eccf47e0deb"
      },
      "source": [
        "#使用 webdriver 來讀取網頁內容\n",
        "#wd.get(data_url)\n",
        "#print (wd.page_source)\n",
        "\n",
        "import requests\n",
        "import json\n",
        "\n",
        "data_url = \"https://www.twse.com.tw/exchangeReport/BWIBBU?response=json&date=20200909&stockNo=2330\"\n",
        "\n",
        "html = requests.get(data_url)\n",
        "\n",
        "if html.status_code == requests.codes.ok:\n",
        "  jcontent = json.loads(html.text)\n",
        "  data=jcontent['data']\n",
        "  print (data)\n",
        "else:\n",
        "  print ('爬蟲失敗') \n"
      ],
      "execution_count": 24,
      "outputs": [
        {
          "output_type": "stream",
          "name": "stdout",
          "text": [
            "[['109年09月01日', '2.18', 108, '24.80', '6.56', '109/2'], ['109年09月02日', '2.19', 108, '24.69', '6.53', '109/2'], ['109年09月03日', '2.18', 108, '24.86', '6.57', '109/2'], ['109年09月04日', '2.21', 108, '24.46', '6.47', '109/2'], ['109年09月07日', '2.23', 108, '24.29', '6.42', '109/2'], ['109年09月08日', '2.20', 108, '24.57', '6.50', '109/2'], ['109年09月09日', '2.22', 108, '24.34', '6.44', '109/2'], ['109年09月10日', '2.18', 108, '24.80', '6.56', '109/2'], ['109年09月11日', '2.18', 108, '24.89', '6.58', '109/2'], ['109年09月14日', '2.15', 108, '25.14', '6.65', '109/2'], ['109年09月15日', '2.13', 108, '25.37', '6.71', '109/2'], ['109年09月16日', '2.07', 108, '26.11', '6.90', '109/2'], ['109年09月17日', '2.12', 108, '25.57', '6.76', '109/2'], ['109年09月18日', '2.14', 108, '25.31', '6.69', '109/2'], ['109年09月21日', '2.16', 108, '25.09', '6.63', '109/2'], ['109年09月22日', '2.17', 108, '24.91', '6.59', '109/2'], ['109年09月23日', '2.19', 108, '24.71', '6.53', '109/2'], ['109年09月24日', '2.25', 108, '24.12', '6.38', '109/2'], ['109年09月25日', '2.24', 108, '24.17', '6.39', '109/2'], ['109年09月28日', '2.20', 108, '24.60', '6.50', '109/2'], ['109年09月29日', '2.20', 108, '24.57', '6.50', '109/2'], ['109年09月30日', '2.19', 108, '24.69', '6.53', '109/2']]\n"
          ]
        }
      ]
    },
    {
      "cell_type": "markdown",
      "metadata": {
        "id": "bo06JdWkAXDQ"
      },
      "source": [
        "#【程式31】\n",
        "# 證交所-取得股票日成交資訊\n",
        "\n"
      ]
    },
    {
      "cell_type": "code",
      "metadata": {
        "colab": {
          "base_uri": "https://localhost:8080/"
        },
        "id": "qitGatIjAhxb",
        "outputId": "eba400c0-5ec6-4197-bf3a-2e062be620d1"
      },
      "source": [
        "import requests\n",
        "import json\n",
        "\n",
        "data_url = \"https://www.twse.com.tw/exchangeReport/STOCK_DAY?response=json&date=20200909&stockNo=2330\"\n",
        "\n",
        "html = requests.get(data_url)\n",
        "\n",
        "if html.status_code == requests.codes.ok:\n",
        "  jcontent = json.loads(html.text)\n",
        "  data=jcontent['data']\n",
        "  print (data)\n",
        "else:\n",
        "  print ('爬蟲失敗') "
      ],
      "execution_count": 28,
      "outputs": [
        {
          "output_type": "stream",
          "name": "stdout",
          "text": [
            "[['109/09/01', '50,129,577', '21,681,382,412', '430.00', '435.00', '428.00', '435.00', '+8.50', '17,137'], ['109/09/02', '42,013,407', '18,268,716,092', '441.00', '441.00', '430.50', '433.00', '-2.00', '20,242'], ['109/09/03', '40,683,617', '17,768,951,582', '439.50', '439.50', '433.50', '436.00', '+3.00', '17,810'], ['109/09/04', '51,349,911', '22,051,596,821', '427.00', '432.50', '427.00', '429.00', '-7.00', '27,893'], ['109/09/07', '39,854,584', '17,060,627,028', '428.00', '432.50', '425.00', '426.00', '-3.00', '20,003'], ['109/09/08', '23,714,670', '10,208,232,440', '428.00', '433.00', '427.50', '431.00', '+5.00', '12,440'], ['109/09/09', '40,727,362', '17,312,991,408', '425.00', '428.00', '423.00', '427.00', '-4.00', '21,740'], ['109/09/10', '35,281,921', '15,275,112,115', '432.50', '435.00', '430.50', '435.00', '+8.00', '18,244'], ['109/09/11', '34,893,469', '15,171,902,036', '435.50', '436.50', '432.50', '436.50', '+1.50', '14,647'], ['109/09/14', '39,325,833', '17,282,659,859', '436.00', '442.00', '435.50', '441.00', '+4.50', '19,854'], ['109/09/15', '39,661,449', '17,608,049,536', '440.50', '447.00', '439.50', '445.00', '+4.00', '21,845'], ['109/09/16', '70,608,238', '32,379,722,344', '460.00', '462.00', '455.50', '458.00', '+13.00', '38,172'], ['109/09/17', '44,420,506', '20,006,793,320', '453.00', '455.00', '446.50', '448.50', 'X0.00', '26,718'], ['109/09/18', '52,999,922', '23,598,268,654', '447.00', '449.50', '443.00', '444.00', '-4.50', '20,849'], ['109/09/21', '40,193,920', '17,842,486,882', '443.50', '450.00', '440.00', '440.00', '-4.00', '25,834'], ['109/09/22', '36,842,639', '16,140,184,501', '440.00', '441.00', '436.00', '437.00', '-3.00', '22,692'], ['109/09/23', '47,426,963', '20,592,831,368', '436.00', '438.50', '432.00', '433.50', '-3.50', '27,828'], ['109/09/24', '82,510,381', '35,076,048,246', '425.50', '429.00', '423.00', '423.00', '-10.50', '54,922'], ['109/09/25', '41,263,269', '17,522,224,043', '427.00', '428.00', '421.00', '424.00', '+1.00', '23,290'], ['109/09/28', '34,427,479', '14,758,341,446', '427.00', '431.50', '424.50', '431.50', '+7.50', '19,286'], ['109/09/29', '42,730,502', '18,419,905,574', '432.50', '435.00', '428.00', '431.00', '-0.50', '18,647'], ['109/09/30', '28,859,204', '12,496,613,056', '430.50', '435.00', '430.50', '433.00', '+2.00', '14,203']]\n"
          ]
        }
      ]
    },
    {
      "cell_type": "markdown",
      "metadata": {
        "id": "xBIWK7UxA9c8"
      },
      "source": [
        "#【程式32】\n",
        "# 證交所-取得股票盤後定價資訊\n"
      ]
    },
    {
      "cell_type": "code",
      "metadata": {
        "colab": {
          "base_uri": "https://localhost:8080/"
        },
        "id": "jKYT3t7nBL85",
        "outputId": "f4223a1f-1a30-4567-e6cc-a98f6b8b3996"
      },
      "source": [
        "import requests\n",
        "import json\n",
        "\n",
        "data_url = \"https://www.twse.com.tw/exchangeReport/BFT41U?response=json&date=20200909&selectType=30\"\n",
        "\n",
        "html = requests.get(data_url)\n",
        "\n",
        "if html.status_code == requests.codes.ok:\n",
        "  jcontent = json.loads(html.text)\n",
        "  data=jcontent['data']\n",
        "  print (data)\n",
        "else:\n",
        "  print ('爬蟲失敗') "
      ],
      "execution_count": 32,
      "outputs": [
        {
          "output_type": "stream",
          "name": "stdout",
          "text": [
            "[['2427', '三商電', '5', '1', '53,250', '10.65', '5', '0'], ['2453', '凌群', '11', '2', '199,100', '18.10', '0', '109'], ['2468', '華經', '0', '0', '0', '13.80', '0', '10'], ['2471', '資通', '0', '0', '0', '19.95', '1', '0'], ['2480', '敦陽科', '0', '0', '0', '61.70', '2', '0'], ['3029', '零壹', '2', '1', '82,800', '41.40', '0', '0'], ['4994', '傳奇', '0', '0', '0', '61.50', '0', '1'], ['5203', '訊連', '0', '0', '0', '116.50', '0', '0'], ['6112', '聚碩', '0', '0', '0', '39.10', '0', '0'], ['6183', '關貿', '0', '0', '0', '48.05', '3', '0'], ['6214', '精誠', '0', '0', '0', '83.00', '2', '0'], ['\\u3000', '合計', '18', '4', '335,150', '', '13', '120']]\n"
          ]
        }
      ]
    },
    {
      "cell_type": "markdown",
      "metadata": {
        "id": "HDkOwTOkB6GO"
      },
      "source": [
        "【程式33 - 39 作業】\n"
      ]
    }
  ]
}