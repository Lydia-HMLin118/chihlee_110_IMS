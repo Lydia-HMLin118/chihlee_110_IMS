{
  "nbformat": 4,
  "nbformat_minor": 0,
  "metadata": {
    "colab": {
      "name": "Copy of DQN_trader_stage3.0_預測share",
      "provenance": [],
      "collapsed_sections": [],
      "include_colab_link": true
    },
    "kernelspec": {
      "name": "python3",
      "display_name": "Python 3"
    },
    "accelerator": "TPU"
  },
  "cells": [
    {
      "cell_type": "markdown",
      "metadata": {
        "id": "view-in-github",
        "colab_type": "text"
      },
      "source": [
        "<a href=\"https://colab.research.google.com/github/Lydia-HMLin118/chihlee_110_IMS/blob/main/Copy_of_DQN_trader_stage3_0_%E9%A0%90%E6%B8%ACshare.ipynb\" target=\"_parent\"><img src=\"https://colab.research.google.com/assets/colab-badge.svg\" alt=\"Open In Colab\"/></a>"
      ]
    },
    {
      "cell_type": "markdown",
      "metadata": {
        "id": "hvt3RguHyJpA"
      },
      "source": [
        "# 盤中程式自動交易DQN_測試"
      ]
    },
    {
      "cell_type": "markdown",
      "source": [
        "交易標的為台指期,模型為DQN, 訓練及測試資料為證交所每五秒交易紀錄資料.目標為DQN模型在盤中依照即時指數變化自動交易(hold,buy,sell),交易後(buy/sell)以Line通知交易價格及數量,並每日彙整交易報表,程式分訓練及測試2部"
      ],
      "metadata": {
        "id": "b6MIFzJsoAuM"
      }
    },
    {
      "cell_type": "code",
      "metadata": {
        "id": "mI0Mz60uyEi7"
      },
      "source": [
        "#!pip install pandas-datareader"
      ],
      "execution_count": 1,
      "outputs": []
    },
    {
      "cell_type": "code",
      "metadata": {
        "id": "uGvqSuy4wWKo",
        "colab": {
          "base_uri": "https://localhost:8080/"
        },
        "outputId": "d3760f55-6be4-4699-fc8c-5cd714f79a1d"
      },
      "source": [
        "from google.colab import drive\n",
        "drive.mount('/content/gdrive')"
      ],
      "execution_count": 2,
      "outputs": [
        {
          "output_type": "stream",
          "name": "stdout",
          "text": [
            "Mounted at /content/gdrive\n"
          ]
        }
      ]
    },
    {
      "cell_type": "code",
      "metadata": {
        "id": "K1z7xVeqEzQR"
      },
      "source": [
        "import math\n",
        "import random\n",
        "import numpy as np\n",
        "import pandas as pd\n",
        "import tensorflow as tf\n",
        "import matplotlib.pyplot as plt\n",
        "import pandas_datareader as data_reader\n",
        "import xgboost as xgb\n",
        "from tqdm import tqdm_notebook, tqdm\n",
        "from collections import deque\n",
        "import pickle\n",
        "from sklearn.metrics import mean_absolute_error\n",
        "from sklearn.preprocessing import StandardScaler\n",
        "from functools import lru_cache\n",
        "\n",
        "from datetime import timedelta, date, datetime\n",
        "import time\n",
        "import requests\n",
        "from io import StringIO\n",
        "from keras.models import load_model\n",
        "import math\n",
        "import os"
      ],
      "execution_count": 3,
      "outputs": []
    },
    {
      "cell_type": "markdown",
      "source": [
        "# 測試1:使用訓練時保留的資料測試交易績效"
      ],
      "metadata": {
        "id": "YFcrhGSE0Jnn"
      }
    },
    {
      "cell_type": "code",
      "metadata": {
        "id": "4hgVT8y_ntRc",
        "colab": {
          "base_uri": "https://localhost:8080/",
          "height": 410
        },
        "outputId": "1afd40c7-9128-4ecb-dc9c-4da2b627c9d6"
      },
      "source": [
        "#將訓練時爬下的證交所交易資料讀入\n",
        "df_crawlered1 = pd.read_csv('/content/gdrive/My Drive/twse_index.csv',index_col=0, dtype={'時間': 'str', '發行量加權股價指數': 'str'}, parse_dates=['時間'])"
      ],
      "execution_count": 4,
      "outputs": [
        {
          "output_type": "error",
          "ename": "FileNotFoundError",
          "evalue": "ignored",
          "traceback": [
            "\u001b[0;31m---------------------------------------------------------------------------\u001b[0m",
            "\u001b[0;31mFileNotFoundError\u001b[0m                         Traceback (most recent call last)",
            "\u001b[0;32m<ipython-input-4-e708c1507c48>\u001b[0m in \u001b[0;36m<module>\u001b[0;34m()\u001b[0m\n\u001b[1;32m      1\u001b[0m \u001b[0;31m#將訓練時爬下的證交所交易資料讀入\u001b[0m\u001b[0;34m\u001b[0m\u001b[0;34m\u001b[0m\u001b[0;34m\u001b[0m\u001b[0m\n\u001b[0;32m----> 2\u001b[0;31m \u001b[0mdf_crawlered1\u001b[0m \u001b[0;34m=\u001b[0m \u001b[0mpd\u001b[0m\u001b[0;34m.\u001b[0m\u001b[0mread_csv\u001b[0m\u001b[0;34m(\u001b[0m\u001b[0;34m'/content/gdrive/My Drive/twse_index.csv'\u001b[0m\u001b[0;34m,\u001b[0m\u001b[0mindex_col\u001b[0m\u001b[0;34m=\u001b[0m\u001b[0;36m0\u001b[0m\u001b[0;34m,\u001b[0m \u001b[0mdtype\u001b[0m\u001b[0;34m=\u001b[0m\u001b[0;34m{\u001b[0m\u001b[0;34m'時間'\u001b[0m\u001b[0;34m:\u001b[0m \u001b[0;34m'str'\u001b[0m\u001b[0;34m,\u001b[0m \u001b[0;34m'發行量加權股價指數'\u001b[0m\u001b[0;34m:\u001b[0m \u001b[0;34m'str'\u001b[0m\u001b[0;34m}\u001b[0m\u001b[0;34m,\u001b[0m \u001b[0mparse_dates\u001b[0m\u001b[0;34m=\u001b[0m\u001b[0;34m[\u001b[0m\u001b[0;34m'時間'\u001b[0m\u001b[0;34m]\u001b[0m\u001b[0;34m)\u001b[0m\u001b[0;34m\u001b[0m\u001b[0;34m\u001b[0m\u001b[0m\n\u001b[0m",
            "\u001b[0;32m/usr/local/lib/python3.7/dist-packages/pandas/io/parsers.py\u001b[0m in \u001b[0;36mread_csv\u001b[0;34m(filepath_or_buffer, sep, delimiter, header, names, index_col, usecols, squeeze, prefix, mangle_dupe_cols, dtype, engine, converters, true_values, false_values, skipinitialspace, skiprows, skipfooter, nrows, na_values, keep_default_na, na_filter, verbose, skip_blank_lines, parse_dates, infer_datetime_format, keep_date_col, date_parser, dayfirst, cache_dates, iterator, chunksize, compression, thousands, decimal, lineterminator, quotechar, quoting, doublequote, escapechar, comment, encoding, dialect, error_bad_lines, warn_bad_lines, delim_whitespace, low_memory, memory_map, float_precision)\u001b[0m\n\u001b[1;32m    686\u001b[0m     )\n\u001b[1;32m    687\u001b[0m \u001b[0;34m\u001b[0m\u001b[0m\n\u001b[0;32m--> 688\u001b[0;31m     \u001b[0;32mreturn\u001b[0m \u001b[0m_read\u001b[0m\u001b[0;34m(\u001b[0m\u001b[0mfilepath_or_buffer\u001b[0m\u001b[0;34m,\u001b[0m \u001b[0mkwds\u001b[0m\u001b[0;34m)\u001b[0m\u001b[0;34m\u001b[0m\u001b[0;34m\u001b[0m\u001b[0m\n\u001b[0m\u001b[1;32m    689\u001b[0m \u001b[0;34m\u001b[0m\u001b[0m\n\u001b[1;32m    690\u001b[0m \u001b[0;34m\u001b[0m\u001b[0m\n",
            "\u001b[0;32m/usr/local/lib/python3.7/dist-packages/pandas/io/parsers.py\u001b[0m in \u001b[0;36m_read\u001b[0;34m(filepath_or_buffer, kwds)\u001b[0m\n\u001b[1;32m    452\u001b[0m \u001b[0;34m\u001b[0m\u001b[0m\n\u001b[1;32m    453\u001b[0m     \u001b[0;31m# Create the parser.\u001b[0m\u001b[0;34m\u001b[0m\u001b[0;34m\u001b[0m\u001b[0;34m\u001b[0m\u001b[0m\n\u001b[0;32m--> 454\u001b[0;31m     \u001b[0mparser\u001b[0m \u001b[0;34m=\u001b[0m \u001b[0mTextFileReader\u001b[0m\u001b[0;34m(\u001b[0m\u001b[0mfp_or_buf\u001b[0m\u001b[0;34m,\u001b[0m \u001b[0;34m**\u001b[0m\u001b[0mkwds\u001b[0m\u001b[0;34m)\u001b[0m\u001b[0;34m\u001b[0m\u001b[0;34m\u001b[0m\u001b[0m\n\u001b[0m\u001b[1;32m    455\u001b[0m \u001b[0;34m\u001b[0m\u001b[0m\n\u001b[1;32m    456\u001b[0m     \u001b[0;32mif\u001b[0m \u001b[0mchunksize\u001b[0m \u001b[0;32mor\u001b[0m \u001b[0miterator\u001b[0m\u001b[0;34m:\u001b[0m\u001b[0;34m\u001b[0m\u001b[0;34m\u001b[0m\u001b[0m\n",
            "\u001b[0;32m/usr/local/lib/python3.7/dist-packages/pandas/io/parsers.py\u001b[0m in \u001b[0;36m__init__\u001b[0;34m(self, f, engine, **kwds)\u001b[0m\n\u001b[1;32m    946\u001b[0m             \u001b[0mself\u001b[0m\u001b[0;34m.\u001b[0m\u001b[0moptions\u001b[0m\u001b[0;34m[\u001b[0m\u001b[0;34m\"has_index_names\"\u001b[0m\u001b[0;34m]\u001b[0m \u001b[0;34m=\u001b[0m \u001b[0mkwds\u001b[0m\u001b[0;34m[\u001b[0m\u001b[0;34m\"has_index_names\"\u001b[0m\u001b[0;34m]\u001b[0m\u001b[0;34m\u001b[0m\u001b[0;34m\u001b[0m\u001b[0m\n\u001b[1;32m    947\u001b[0m \u001b[0;34m\u001b[0m\u001b[0m\n\u001b[0;32m--> 948\u001b[0;31m         \u001b[0mself\u001b[0m\u001b[0;34m.\u001b[0m\u001b[0m_make_engine\u001b[0m\u001b[0;34m(\u001b[0m\u001b[0mself\u001b[0m\u001b[0;34m.\u001b[0m\u001b[0mengine\u001b[0m\u001b[0;34m)\u001b[0m\u001b[0;34m\u001b[0m\u001b[0;34m\u001b[0m\u001b[0m\n\u001b[0m\u001b[1;32m    949\u001b[0m \u001b[0;34m\u001b[0m\u001b[0m\n\u001b[1;32m    950\u001b[0m     \u001b[0;32mdef\u001b[0m \u001b[0mclose\u001b[0m\u001b[0;34m(\u001b[0m\u001b[0mself\u001b[0m\u001b[0;34m)\u001b[0m\u001b[0;34m:\u001b[0m\u001b[0;34m\u001b[0m\u001b[0;34m\u001b[0m\u001b[0m\n",
            "\u001b[0;32m/usr/local/lib/python3.7/dist-packages/pandas/io/parsers.py\u001b[0m in \u001b[0;36m_make_engine\u001b[0;34m(self, engine)\u001b[0m\n\u001b[1;32m   1178\u001b[0m     \u001b[0;32mdef\u001b[0m \u001b[0m_make_engine\u001b[0m\u001b[0;34m(\u001b[0m\u001b[0mself\u001b[0m\u001b[0;34m,\u001b[0m \u001b[0mengine\u001b[0m\u001b[0;34m=\u001b[0m\u001b[0;34m\"c\"\u001b[0m\u001b[0;34m)\u001b[0m\u001b[0;34m:\u001b[0m\u001b[0;34m\u001b[0m\u001b[0;34m\u001b[0m\u001b[0m\n\u001b[1;32m   1179\u001b[0m         \u001b[0;32mif\u001b[0m \u001b[0mengine\u001b[0m \u001b[0;34m==\u001b[0m \u001b[0;34m\"c\"\u001b[0m\u001b[0;34m:\u001b[0m\u001b[0;34m\u001b[0m\u001b[0;34m\u001b[0m\u001b[0m\n\u001b[0;32m-> 1180\u001b[0;31m             \u001b[0mself\u001b[0m\u001b[0;34m.\u001b[0m\u001b[0m_engine\u001b[0m \u001b[0;34m=\u001b[0m \u001b[0mCParserWrapper\u001b[0m\u001b[0;34m(\u001b[0m\u001b[0mself\u001b[0m\u001b[0;34m.\u001b[0m\u001b[0mf\u001b[0m\u001b[0;34m,\u001b[0m \u001b[0;34m**\u001b[0m\u001b[0mself\u001b[0m\u001b[0;34m.\u001b[0m\u001b[0moptions\u001b[0m\u001b[0;34m)\u001b[0m\u001b[0;34m\u001b[0m\u001b[0;34m\u001b[0m\u001b[0m\n\u001b[0m\u001b[1;32m   1181\u001b[0m         \u001b[0;32melse\u001b[0m\u001b[0;34m:\u001b[0m\u001b[0;34m\u001b[0m\u001b[0;34m\u001b[0m\u001b[0m\n\u001b[1;32m   1182\u001b[0m             \u001b[0;32mif\u001b[0m \u001b[0mengine\u001b[0m \u001b[0;34m==\u001b[0m \u001b[0;34m\"python\"\u001b[0m\u001b[0;34m:\u001b[0m\u001b[0;34m\u001b[0m\u001b[0;34m\u001b[0m\u001b[0m\n",
            "\u001b[0;32m/usr/local/lib/python3.7/dist-packages/pandas/io/parsers.py\u001b[0m in \u001b[0;36m__init__\u001b[0;34m(self, src, **kwds)\u001b[0m\n\u001b[1;32m   2008\u001b[0m         \u001b[0mkwds\u001b[0m\u001b[0;34m[\u001b[0m\u001b[0;34m\"usecols\"\u001b[0m\u001b[0;34m]\u001b[0m \u001b[0;34m=\u001b[0m \u001b[0mself\u001b[0m\u001b[0;34m.\u001b[0m\u001b[0musecols\u001b[0m\u001b[0;34m\u001b[0m\u001b[0;34m\u001b[0m\u001b[0m\n\u001b[1;32m   2009\u001b[0m \u001b[0;34m\u001b[0m\u001b[0m\n\u001b[0;32m-> 2010\u001b[0;31m         \u001b[0mself\u001b[0m\u001b[0;34m.\u001b[0m\u001b[0m_reader\u001b[0m \u001b[0;34m=\u001b[0m \u001b[0mparsers\u001b[0m\u001b[0;34m.\u001b[0m\u001b[0mTextReader\u001b[0m\u001b[0;34m(\u001b[0m\u001b[0msrc\u001b[0m\u001b[0;34m,\u001b[0m \u001b[0;34m**\u001b[0m\u001b[0mkwds\u001b[0m\u001b[0;34m)\u001b[0m\u001b[0;34m\u001b[0m\u001b[0;34m\u001b[0m\u001b[0m\n\u001b[0m\u001b[1;32m   2011\u001b[0m         \u001b[0mself\u001b[0m\u001b[0;34m.\u001b[0m\u001b[0munnamed_cols\u001b[0m \u001b[0;34m=\u001b[0m \u001b[0mself\u001b[0m\u001b[0;34m.\u001b[0m\u001b[0m_reader\u001b[0m\u001b[0;34m.\u001b[0m\u001b[0munnamed_cols\u001b[0m\u001b[0;34m\u001b[0m\u001b[0;34m\u001b[0m\u001b[0m\n\u001b[1;32m   2012\u001b[0m \u001b[0;34m\u001b[0m\u001b[0m\n",
            "\u001b[0;32mpandas/_libs/parsers.pyx\u001b[0m in \u001b[0;36mpandas._libs.parsers.TextReader.__cinit__\u001b[0;34m()\u001b[0m\n",
            "\u001b[0;32mpandas/_libs/parsers.pyx\u001b[0m in \u001b[0;36mpandas._libs.parsers.TextReader._setup_parser_source\u001b[0;34m()\u001b[0m\n",
            "\u001b[0;31mFileNotFoundError\u001b[0m: [Errno 2] No such file or directory: '/content/gdrive/My Drive/twse_index.csv'"
          ]
        }
      ]
    },
    {
      "cell_type": "code",
      "metadata": {
        "id": "jVoFMdXT9xY2"
      },
      "source": [
        "# 去除','並將str轉成float\n",
        "df_crawlered1['發行量加權股價指數']= list(map(float, [item.replace(',','') for item in df_crawlered1['發行量加權股價指數'] ]))\n"
      ],
      "execution_count": null,
      "outputs": []
    },
    {
      "cell_type": "code",
      "metadata": {
        "id": "DzkeRyPz4m03"
      },
      "source": [
        "#檢查是否有空值\n",
        "print(df_crawlered1.isnull().sum())\n"
      ],
      "execution_count": null,
      "outputs": []
    },
    {
      "cell_type": "code",
      "metadata": {
        "id": "2Kht9yYo2Xs9"
      },
      "source": [
        "#參考例:如果需要調整資料口徑可參考\n",
        "#df_crawlered_10sec =df_crawlered[df_crawlered.index%2 ==0].copy().reset_index(drop=True)"
      ],
      "execution_count": null,
      "outputs": []
    },
    {
      "cell_type": "code",
      "metadata": {
        "id": "DxE7shp0HHBJ"
      },
      "source": [
        "# 重要參數\n",
        "window_size = 360 # 依照window_size筆資料(360*5sec約30mins）做預測\n",
        "batch_size =  64 # 每次DNN模型訓練使用最新64筆memory()\n",
        "best_episode = 9 # 選擇訓練時最佳的episode\n",
        "max_inventory = 30 # 設定程式自動買賣最大允許庫存數"
      ],
      "execution_count": null,
      "outputs": []
    },
    {
      "cell_type": "code",
      "metadata": {
        "id": "fei9w4IistvW"
      },
      "source": [
        "print(df_crawlered1.shape)"
      ],
      "execution_count": null,
      "outputs": []
    },
    {
      "cell_type": "code",
      "metadata": {
        "id": "w5-KNqNTGXfP"
      },
      "source": [
        "#設定sigmoid函數並使用cache加速\n",
        "@lru_cache(maxsize=1024)  #增加cache memory\n",
        "def sigmoid(x): #轉換值介於0-1\n",
        "  return 1 / (1 + math.exp(-x))\n",
        "\n",
        "\n",
        "# 設定函數將結果取到小數第二位\n",
        "def stocks_price_format(n):\n",
        "  if n < 0:\n",
        "    return \"- $ {0:2f}\".format(abs(n))\n",
        "  else:\n",
        "    return \"$ {0:2f}\".format(abs(n))"
      ],
      "execution_count": null,
      "outputs": []
    },
    {
      "cell_type": "code",
      "metadata": {
        "id": "Qp5rWt8Ubb_S"
      },
      "source": [
        "df_crawlered = df_crawlered1 \n",
        "sigmoid_df= df_crawlered['發行量加權股價指數']-df_crawlered['發行量加權股價指數'].shift(1) #取漲跌值\n",
        "sigmoid_df[0,0]=0\n",
        "sigmoid_df = sigmoid_df.map(sigmoid)#將漲跌值壓縮在0-1之間"
      ],
      "execution_count": null,
      "outputs": []
    },
    {
      "cell_type": "code",
      "source": [
        "df_crawlered"
      ],
      "metadata": {
        "id": "xhuCu0zl8vGv"
      },
      "execution_count": null,
      "outputs": []
    },
    {
      "cell_type": "code",
      "metadata": {
        "id": "zqTgQOSysznI"
      },
      "source": [
        "# test的資料切割點\n",
        "train_ratio = 0.8 #crawlered1_df是訓練時下載的資料集,訓練用了前面80%資料,使用後20%未訓練過的資料\n",
        "sep_idx = int(df_crawlered.shape[0]*train_ratio) #取切割的index\n",
        "\n",
        "# 分割出test\n",
        "df_test = sigmoid_df[sep_idx:].copy().reset_index(drop=True) #取sep_index之後的\n",
        "actual_price_df = df_crawlered[sep_idx:].copy()['發行量加權股價指數'].values\n",
        "print(df_test.shape, len(actual_price_df))\n"
      ],
      "execution_count": null,
      "outputs": []
    },
    {
      "cell_type": "code",
      "source": [
        "actual_price_df[:5]"
      ],
      "metadata": {
        "id": "8x3knGtq_TVe"
      },
      "execution_count": null,
      "outputs": []
    },
    {
      "cell_type": "code",
      "metadata": {
        "id": "morTF0x0E8CM"
      },
      "source": [
        "class DQN_trader():\n",
        "  \n",
        "  def __init__(self, state_size, best_episode, action_num=3, model_name=\"DQN_trader\"): # state_size=>window_size(360)個壓縮為simoid值的漲跌幅變化來判斷hold,buy,sell)\n",
        "    self.state_size = state_size\n",
        "    self.action_num = action_num # number = 3 (有三種action: hold, buy, sell)\n",
        "    self.memory = deque(maxlen=2000) # que記憶最大2000組\n",
        "    self.inventory = [] # 設買入庫存紀錄list\n",
        "    self.model_name = model_name\n",
        "    self.best_episode = best_episode\n",
        "    \n",
        "    self.gamma = 0.618 #用來調整下次reward預測值的重要性\n",
        "    self.epsilon = 0 # 預測調為0, 訓練時1, 隨機或預測的threshold\n",
        "    self.epsilon_final = 0.01 # 最低epsilon值\n",
        "    self.epsilon_decay = 0.995 # 每次epsilon遞減比率: 千分之五\n",
        "    \n",
        "    self.model = self.model_dnn()\n",
        "    \n",
        "  def model_dnn(self):\n",
        "    #載入訓練最好的model\n",
        "    model= load_model((\"/content/gdrive/My Drive/DQN股價預測/ai_trader_{}.h5\".format(self.best_episode))) \n",
        "    \n",
        "  #  model = tf.keras.models.Sequential()\n",
        "    \n",
        "  #  model.add(tf.keras.layers.Dense(units=16, activation='relu', input_dim=self.state_size))\n",
        "    \n",
        "  #  model.add(tf.keras.layers.Dense(units=32, activation='relu'))\n",
        "    \n",
        "  #  model.add(tf.keras.layers.Dense(units=64, activation='relu'))\n",
        "    \n",
        "  #  model.add(tf.keras.layers.Dense(units=128, activation='relu'))\n",
        "    \n",
        "  #  model.add(tf.keras.layers.Dense(units=self.action_num, activation='linear'))\n",
        "    # 最後輸出3個linear值,然後做argmax\n",
        "  #  model.compile(loss='mse', optimizer=tf.keras.optimizers.Adam(lr=1e-3))\n",
        "    \n",
        "    return model\n",
        "  \n",
        "  def trade(self, state):\n",
        "    # random or use dnn model to predict action\n",
        "    \n",
        "    if random.random() <= self.epsilon: # 進入預測後, epsilon已經設為0,所以不會進入隨機判斷\n",
        "      return random.randrange(self.action_num)\n",
        "    \n",
        "    actions = self.model.predict(state) #predict出三組數字然後argmax產出0,1,2三個數字 #0hold, 1Buy, 2Sell\n",
        "    return np.argmax(actions[0]) \n",
        "  \n",
        "  @lru_cache(maxsize=1024)\n",
        "  def batch_train(self, batch_size): \n",
        "    \n",
        "    batch = []\n",
        "    #取最新64筆memory\n",
        "    for i in range(len(self.memory) - batch_size + 1, len(self.memory)):\n",
        "      batch.append(self.memory[i]) # 取出最新batch_size(64)筆memory, 每個memory包含5個items\n",
        "      \n",
        "    for state, action, reward, next_state, done in batch: #逐次取出5個items\n",
        "      reward = reward\n",
        "      if not done:\n",
        "        reward = reward + self.gamma * np.amax(self.model.predict(next_state)[0])#引導模型往這次＋預期下次reward方向擬合\n",
        "        \n",
        "      target = self.model.predict(state)\n",
        "      target[0][action] = reward\n",
        "      \n",
        "      self.model.fit(state, target, epochs=1, verbose=0) #以過去64筆memory訓練模型來做預測\n",
        "      \n",
        "    if self.epsilon > self.epsilon_final: # final值為0.01\n",
        "      self.epsilon *= self.epsilon_decay # epsilon初始值1, 每次遞減千分之五"
      ],
      "execution_count": null,
      "outputs": []
    },
    {
      "cell_type": "code",
      "metadata": {
        "id": "fwHxqKPAHKIr"
      },
      "source": [
        "trader = DQN_trader(window_size, best_episode) # window_size用來設定DNN的輸入dimension"
      ],
      "execution_count": null,
      "outputs": []
    },
    {
      "cell_type": "code",
      "metadata": {
        "id": "4fGD3-h0TUqU"
      },
      "source": [
        "trader.model.summary() # 輸出3個linear數字（訓練時3個數字的y值為環境reward)"
      ],
      "execution_count": null,
      "outputs": []
    },
    {
      "cell_type": "code",
      "metadata": {
        "id": "hXdTpDgoN5Qg"
      },
      "source": [
        "class line_notify():\n",
        "    \n",
        "    def __init__(self, api_token, line_token):\n",
        "        \n",
        "        self.api_token = api_token\n",
        "        self.line_token = line_token\n",
        "        \n",
        "    def lineNotifyMessage(self, msg):\n",
        "    \n",
        "        headers = {\n",
        "           \"Authorization\": \"Bearer \" + self.line_token, \n",
        "           \"Content-Type\" : \"application/x-www-form-urlencoded\"\n",
        "       }\n",
        "\n",
        "        payload = {'message': msg}\n",
        "        r = requests.post(\"https://notify-api.line.me/api/notify\", headers = headers, params = payload)\n",
        "        return r.status_code\n",
        "    \n",
        "    def buy_sell_notify(self, symbol_id, action , target_price , profit):\n",
        "\n",
        "\n",
        "        if action == 1:\n",
        "            self.lineNotifyMessage('重要通知！' + symbol_id + '程式已自動交易[買]了' + str(target_price) + '元\\n')\n",
        "\n",
        "        elif action == 2:\n",
        "            self.lineNotifyMessage('重要通知！' + symbol_id + '程式已自動交易[賣]了' + str(target_price) + '，獲利：' + str(profit) + '元\\n')\n",
        "\n",
        "        else:\n",
        "            pass\n",
        "    \n",
        " "
      ],
      "execution_count": null,
      "outputs": []
    },
    {
      "cell_type": "code",
      "metadata": {
        "id": "w1CDuzBqh2xJ"
      },
      "source": [
        "# line_token申請url: https://notify-bot.line.me/zh_TW/\n",
        "line_token = '這裡請輸入到上面url申請的token'\n",
        "\n",
        "line = line_notify(line_token= line_token,\n",
        "                   api_token='自動程式交易通知')"
      ],
      "execution_count": null,
      "outputs": []
    },
    {
      "cell_type": "code",
      "metadata": {
        "id": "juvnp9VwiFTl"
      },
      "source": [
        "#測試Line通知功能(需先申請token)\n",
        "line.buy_sell_notify(symbol_id='台指期TXF10',action=1,target_price=123,profit=123)   "
      ],
      "execution_count": null,
      "outputs": []
    },
    {
      "cell_type": "markdown",
      "metadata": {
        "id": "ciEP3S0slon9"
      },
      "source": [
        "![8E078F3C-59E3-408E-986E-37712C15E99B.png](data:image/png;base64,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)"
      ]
    },
    {
      "cell_type": "code",
      "metadata": {
        "id": "45k1G2XUlmiG"
      },
      "source": [
        "# the history of buy, sell, profit, inventory, total profit\n",
        "trading_history=pd.DataFrame(columns = ['代號', '名稱', '1買2賣', '價格', '利潤','剩餘庫存', '利潤加總'])"
      ],
      "execution_count": null,
      "outputs": []
    },
    {
      "cell_type": "code",
      "metadata": {
        "id": "S6heFDetDNU-"
      },
      "source": [
        "learned_memory = pickle.load(open('/content/gdrive/My Drive/DQN股價預測/learned_memory.pkl', 'rb'))\n",
        "\n",
        "print([x[1] for x in learned_memory]) #概覽learned_memory的0,1,2action分布"
      ],
      "execution_count": null,
      "outputs": []
    },
    {
      "cell_type": "code",
      "metadata": {
        "id": "LtIb2JQ-1raD"
      },
      "source": [
        "len(learned_memory[0][0][0]) #確認learned_memory的window_size相符"
      ],
      "execution_count": null,
      "outputs": []
    },
    {
      "cell_type": "code",
      "metadata": {
        "id": "2SmxVVsi-JuR"
      },
      "source": [
        "# predict \n",
        "# 以line即時通知交易: 程式自動買入賣出與獲利\n",
        "\n",
        "# 測試資料\n",
        "data = df_test.values\n",
        "\n",
        "# 載入之前memory\n",
        "learned_memory = pickle.load(open('/content/gdrive/My Drive/DQN股價預測/learned_memory.pkl', 'rb'))  \n",
        "trader.memory = learned_memory\n",
        "# 載入memory中最後一個state\n",
        "state = deque(learned_memory[-1][3][0], maxlen= window_size)\n",
        "# 產生第一個state\n",
        "state.append(data[0])\n",
        "\n",
        "  \n",
        "#設定初始值\n",
        "total_profit = 0\n",
        "buy_count, sell_count = 0, 0\n",
        "trader.inventory = []\n",
        "reward = 0\n",
        "\n",
        "\n",
        "print(\"====程式開始自動交易====\")\n",
        "for timestep in tqdm(range(1,2000)): #len(data))): # 走test所有資料\n",
        "  #print(f'timestep is {timestep}')\n",
        "  curr_state = np.array(state).reshape(-1, window_size) \n",
        "  #print(f'curr_state is {curr_state}')\n",
        "  action = trader.trade(curr_state) # 產出第一個action(非隨機, 是模型預測)\n",
        "  #print(f'action is {action}')\n",
        "  state.append(data[timestep])\n",
        "  next_state = np.array(state).reshape(-1, window_size)\n",
        "  #print(f'next_state is {next_state}')\n",
        "  \n",
        "  \n",
        "  if action == 1 and len(trader.inventory) < max_inventory: #Buying\n",
        "    trader.inventory.append(actual_price_df[timestep]) # 在此記入買時價格\n",
        "    print(\"DQN Trader bought: \", stocks_price_format(actual_price_df[timestep]))\n",
        "    buy_count+=1\n",
        "    #line通知買入及買入價格\n",
        "    line.buy_sell_notify(symbol_id='台指期TXF10',action=action,target_price=stocks_price_format(data[timestep]),profit=0)\n",
        "    #['代號', '名稱', '1買2賣', '價格', '利潤','剩餘庫存', '利潤加總']\n",
        "    trading_history.loc[len(trading_history)]=['TXF10', '台指期10', action, stocks_price_format(actual_price_df[timestep]), 'NaN', len(trader.inventory), total_profit ] \n",
        "    \n",
        "  elif action == 2 and len(trader.inventory) > 0: #Selling\n",
        "    buy_price = trader.inventory.pop(0)\n",
        "    sell_count+=1\n",
        "    reward = max(actual_price_df[timestep] - buy_price, 0) # reward指環境回饋, 最小值為0 \n",
        "    total_profit += actual_price_df[timestep] - buy_price # 這裡才反應實際賺賠金額\n",
        "    print(\"DQN Trader sold: \", stocks_price_format(actual_price_df[timestep]), \" Profit: \" + stocks_price_format(actual_price_df[timestep] - buy_price) )\n",
        "    # line通知\n",
        "    line.buy_sell_notify(symbol_id='台指期TXF10',action=action,target_price=stocks_price_format(data[timestep]),profit=stocks_price_format(data[timestep] - buy_price))\n",
        "    #['代號', '名稱', '1買2賣', '價格', '利潤','剩餘庫存', '利潤加總']\n",
        "    trading_history.loc[len(trading_history)]=['TXF10', '台指期10', action, stocks_price_format(actual_price_df[timestep]), stocks_price_format(actual_price_df[timestep] - buy_price), len(trader.inventory) , total_profit] \n",
        "\n",
        "  if timestep == len(data)-1: # 跑到最後一筆資料了\n",
        "    done = True\n",
        "  else:\n",
        "    done = False\n",
        "    \n",
        "  trader.memory.append((curr_state, action, reward, next_state, done))\n",
        "  \n",
        "  \n",
        "  if done:\n",
        "    #print(\"########################\")\n",
        "    print(f\"Today's Profit: {total_profit}, Buy: {buy_count}, Sell: {sell_count}, UNSOLD_inventory: {len(trader.inventory)}\")\n",
        "    #print(\"########################\")\n",
        "\n",
        "  \n",
        "  if len(trader.memory) > batch_size: # 用最新32個memory訓練DNN\n",
        "    trader.batch_train(batch_size)\n",
        "\n",
        "# 存檔交易歷史\n",
        "trading_history.to_csv('/content/gdrive/My Drive/DQN股價預測/trading_history.csv',encoding='utf-8', index=False )  \n",
        "\n",
        "# 存檔memory\n",
        "learned_memory = trader.memory\n",
        "f = open(\"/content/gdrive/My Drive/DQN股價預測/test_learned_memory.pkl\",'wb')\n",
        "pickle.dump(learned_memory, f)\n"
      ],
      "execution_count": null,
      "outputs": []
    },
    {
      "cell_type": "code",
      "metadata": {
        "id": "9Euvo_Lj4K5n"
      },
      "source": [
        "# 程式交易歷史\n",
        "trading_history"
      ],
      "execution_count": null,
      "outputs": []
    },
    {
      "cell_type": "markdown",
      "source": [
        "# 測試2:另外下載一天的交易資料做測試自動交易績效"
      ],
      "metadata": {
        "id": "UAZnqKvevH5R"
      }
    },
    {
      "cell_type": "code",
      "metadata": {
        "id": "vm4bf_P5yItm"
      },
      "source": [
        "# 上市指數爬蟲function\n",
        "# 台灣證交所參考URL: https://www.twse.com.tw/exchangeReport/MI_5MINS_INDEX?response=csv&date=20201019    \n",
        "def TWSE_INDEX_Crawler(date): # 下載每五秒台股指數資料\n",
        "    df = pd.DataFrame()\n",
        "    try:\n",
        "        url = f'https://www.twse.com.tw/exchangeReport/MI_5MINS_INDEX?response=csv&date={date}'\n",
        "        res = requests.get(url)\n",
        "        if res.text != '\\r\\n':\n",
        "          df = pd.read_csv(StringIO(res.text.replace('=','')), header=1)\n",
        "          df = df.loc[0:3240,['時間','發行量加權股價指數' ]]\n",
        "          df['時間']= date+' '+ df['時間']\n",
        "          df['時間']=pd.to_datetime(df['時間'])\n",
        "    except:\n",
        "        print(\"failed\")\n",
        "        df = pd.DataFrame()\n",
        "    time.sleep(5)\n",
        "    return df"
      ],
      "execution_count": null,
      "outputs": []
    },
    {
      "cell_type": "code",
      "source": [
        "# 設定爬蟲起止日(視測試需要下載不同日期資料測試)\n",
        "start_date = '2020-10-27'\n",
        "end_date  = '2020-10-27'\n",
        "# 轉換為datetime格式\n",
        "st_date = datetime.strptime(start_date, \"%Y-%m-%d\")\n",
        "ed_date = datetime.strptime(end_date, \"%Y-%m-%d\")\n",
        "\n",
        "# 開始爬蟲取得資料\n",
        "df_crawlered2 = pd.DataFrame(columns=['時間','發行量加權股價指數' ])\n",
        "while st_date <= ed_date:\n",
        "  if st_date.weekday() in [0,1,2,3,4]: #週一到週五\n",
        "    date_str = st_date.strftime(\"%Y%m%d\")\n",
        "    temp_df = TWSE_INDEX_Crawler(date_str)\n",
        "    df_crawlered2=df_crawlered2.append(temp_df, ignore_index=True)\n",
        "  st_date += timedelta(days=1)\n",
        "df_crawlered2.shape \n"
      ],
      "metadata": {
        "id": "drTXHeHrQk_g"
      },
      "execution_count": null,
      "outputs": []
    },
    {
      "cell_type": "code",
      "source": [
        "df_crawlered2.to_csv('/content/gdrive/My Drive/twse_index_new.csv')"
      ],
      "metadata": {
        "id": "m0r8iZZhzjTi"
      },
      "execution_count": null,
      "outputs": []
    },
    {
      "cell_type": "code",
      "source": [
        "#將爬下的證交所交易資料讀入\n",
        "df_crawlered2 = pd.read_csv('/content/gdrive/My Drive/twse_index_new.csv',index_col=0, dtype={'時間': 'str', '發行量加權股價指數': 'str'}, parse_dates=['時間'])\n",
        "\n",
        "# 去除','並將str轉成float\n",
        "df_crawlered2['發行量加權股價指數']= list(map(float, [item.replace(',','') for item in df_crawlered2['發行量加權股價指數'] ]))\n",
        "df_crawlered2.shape"
      ],
      "metadata": {
        "id": "ihBnBxm0q0ba"
      },
      "execution_count": null,
      "outputs": []
    },
    {
      "cell_type": "code",
      "metadata": {
        "id": "Rmme-n6JrpK8"
      },
      "source": [
        "df_crawlered = df_crawlered2 \n",
        "sigmoid_df= df_crawlered['發行量加權股價指數']-df_crawlered['發行量加權股價指數'].shift(1) #取漲跌值\n",
        "sigmoid_df[0,0]=0\n",
        "sigmoid_df = sigmoid_df.map(sigmoid)#將漲跌值壓縮在0-1之間\n",
        "actual_price_df = df_crawlered['發行量加權股價指數'].values"
      ],
      "execution_count": null,
      "outputs": []
    },
    {
      "cell_type": "code",
      "metadata": {
        "id": "qq5gJrJ3r9Vj"
      },
      "source": [
        "# 拿來test的資料切割點\n",
        "train_ratio = 0 # crawlered2_df是上面下載某一天的資料,預計全部拿來測試所以這裡填0\n",
        "sep_idx = int(df_crawlered.shape[0]*train_ratio) #取切割的index\n",
        "\n",
        "# 分割出test\n",
        "df_test = sigmoid_df[sep_idx:].copy()#reset_index(drop=True) #取sep_index之後的\n",
        "df_test\n"
      ],
      "execution_count": null,
      "outputs": []
    },
    {
      "cell_type": "code",
      "metadata": {
        "id": "35JJSkqnsc5p"
      },
      "source": [
        "trader = DQN_trader(window_size, best_episode) # window_size用來設定DNN的輸入dimension# the history of buy, sell, profit, inventory, total profit\n",
        "trading_history2=pd.DataFrame(columns = ['代號', '名稱', '1買2賣', '價格', '利潤','剩餘庫存', '利潤加總'])"
      ],
      "execution_count": null,
      "outputs": []
    },
    {
      "cell_type": "code",
      "metadata": {
        "id": "WCmmIf-Qu53-"
      },
      "source": [
        "# predict \n",
        "# 以line即時通知交易: 程式自動買入賣出與獲利\n",
        "\n",
        "# 測試資料\n",
        "data = df_test.values\n",
        "\n",
        "# 載入之前memory\n",
        "learned_memory = pickle.load(open('/content/gdrive/My Drive/DQN股價預測/learned_memory.pkl', 'rb'))  \n",
        "trader.memory = learned_memory\n",
        "# 載入memory中最後一個state\n",
        "state = deque(learned_memory[-1][3][0], maxlen= window_size)\n",
        "# 產生第一個state\n",
        "state.append(data[0])\n",
        "\n",
        "  \n",
        "#設定初始值\n",
        "total_profit = 0\n",
        "buy_count, sell_count = 0, 0\n",
        "trader.inventory = []\n",
        "reward = 0\n",
        "\n",
        "\n",
        "print(\"====程式開始自動交易====\")\n",
        "for timestep in tqdm(range(1,len(data))): # 走test所有資料\n",
        "  curr_state = np.array(state).reshape(-1, window_size) \n",
        "  action = trader.trade(curr_state) # 產出第一個action(非隨機, 是模型預測)\n",
        "  state.append(data[timestep])\n",
        "  next_state = np.array(state).reshape(-1, window_size)\n",
        "  \n",
        "  \n",
        "  if action == 1 and len(trader.inventory) < max_inventory: #Buying\n",
        "    trader.inventory.append(actual_price_df[timestep]) # 在此記入買時價格\n",
        "    #print(\"DQN Trader bought: \", stocks_price_format(actual_price_df[timestep]))\n",
        "    buy_count+=1\n",
        "    #line通知買入及買入價格\n",
        "    #line.buy_sell_notify(symbol_id='台指期TXF10',action=action,target_price=stocks_price_format(data[timestep]),profit=0)\n",
        "    #['代號', '名稱', '1買2賣', '價格', '利潤','剩餘庫存', '利潤加總']\n",
        "    trading_history2.loc[len(trading_history2)]=['TXF10', '台指期', action, stocks_price_format(actual_price_df[timestep]), 'NaN', len(trader.inventory), total_profit ] \n",
        "    \n",
        "  elif action == 2 and len(trader.inventory) > 0: #Selling\n",
        "    buy_price = trader.inventory.pop(0)\n",
        "    sell_count+=1\n",
        "    reward = max(actual_price_df[timestep] - buy_price, 0) # reward指環境回饋, 最小值為0 \n",
        "    total_profit += actual_price_df[timestep] - buy_price # 這裡才反應實際賺賠金額\n",
        "    #print(\"DQN Trader sold: \", stocks_price_format(actual_price_df[timestep]), \" Profit: \" + stocks_price_format(actual_price_df[timestep] - buy_price) )\n",
        "    # line通知\n",
        "    #line.buy_sell_notify(symbol_id='台指期TXF10',action=action,target_price=stocks_price_format(data[t]),profit=stocks_price_format(data[t] - buy_price))\n",
        "    #['代號', '名稱', '1買2賣', '價格', '利潤','剩餘庫存', '利潤加總']\n",
        "    trading_history2.loc[len(trading_history2)]=['TXF10', '台指期', action, stocks_price_format(actual_price_df[timestep]), stocks_price_format(actual_price_df[timestep] - buy_price), len(trader.inventory) , total_profit] \n",
        "\n",
        "  if timestep == len(data)-1: # 跑到最後一筆資料了\n",
        "    done = True\n",
        "  else:\n",
        "    done = False\n",
        "    \n",
        "  trader.memory.append((curr_state, action, reward, next_state, done))\n",
        "  \n",
        "  \n",
        "  if done:\n",
        "    #print(\"########################\")\n",
        "    print(f\"Today's Profit: {total_profit}, Buy: {buy_count}, Sell: {sell_count}, UNSOLD_inventory: {len(trader.inventory)}\")\n",
        "    #print(\"########################\")\n",
        "\n",
        "  \n",
        "  if len(trader.memory) > batch_size: # 用最新64個memory訓練DNN\n",
        "    trader.batch_train(batch_size)\n",
        "\n",
        "# 存檔交易歷史\n",
        "#trading_history2.to_csv('/content/gdrive/My Drive/DQN股價預測/trading_history2.csv',encoding='utf-8', index=False )  \n",
        "\n",
        "# 存檔memory\n",
        "#learned_memory = trader.memory\n",
        "#f = open(\"/content/gdrive/My Drive/DQN股價預測/test_learned_memory.pkl\",'wb')\n",
        "#pickle.dump(learned_memory, f)\n"
      ],
      "execution_count": null,
      "outputs": []
    },
    {
      "cell_type": "code",
      "source": [
        "trading_history2"
      ],
      "metadata": {
        "id": "FuLVdgkxvhUf"
      },
      "execution_count": null,
      "outputs": []
    },
    {
      "cell_type": "markdown",
      "metadata": {
        "id": "7NwdXM1KWdkF"
      },
      "source": [
        "# 參考資料:元大期貨交易模組"
      ]
    },
    {
      "cell_type": "markdown",
      "source": [
        "# 取得盤中即時行情\n",
        "import time\n",
        "import tailer\n",
        "\n",
        "#取得當天日期\n",
        "Date=time.strftime(\"%Y%m%d\")\n",
        "#設定檔案位置\n",
        "DataPath=\"D:/data/\"+Date+\"/TXFD8/\"\n",
        "\n",
        "#開啟檔案\n",
        "def MatchFile(Prodid):\n",
        "　　return(open(\"/content/gdrive/My Drive/yuanta/\"+Date+\"/\"+Prodid+\"/\"+Date+'_Match.txt'))\n",
        "\n",
        "def UpDn5File (Prodid):\n",
        "　　return(open(\"/content/gdrive/My Drive/yuanta/\"+Date+\"/\"+Prodid+\"/\"+Date+'_Match.txt'))\n",
        "\n",
        "#持續取得成交資訊(QM)\n",
        "def getMatch(Prodid):\n",
        "　return tailer.follow(MatchFile(Prodid),0) #second=0\n",
        "\n",
        "#持續取得上下五檔價資訊(QM)\n",
        "def getUpDn5(Prodid):\n",
        "　return tailer.follow(UpDn5File(Prodid),0)\n",
        "\n",
        "#取得最新一筆成交資訊\n",
        "def getLastMatch(Prodid):\n",
        "　return tailer.tail(MatchFile(Prodid),3)[-2].split(\",\")\n",
        "\n",
        "#取得最新一筆上下五檔價資訊\n",
        "def getLastUpDn5(Prodid):\n",
        "　return tailer.tail(UpDn5File(Prodid),3)[-2].split(\",\")\n",
        "\n",
        "# 下單模組\n",
        "# -*- coding: UTF-8 -*-\n",
        "#載入相關套件\n",
        "import subprocess\n",
        "\n",
        "#下單子程式放置位置\n",
        "ExecPath = \"/content/gdrive/My Drive/yuanta/\"\n",
        "\n",
        "#市價單下單\n",
        "def OrderMKT(Product,BS,Qty):\n",
        "　OrderNo=subprocess.check_output([ExecPath+\"order.exe\",Product,BS,\"0\",Qty,\"MKT\",\n",
        "　　　　　　\"IOC\",\"1\"]).decode(\"big5\").strip('\\r\\n')\n",
        "　time.sleep(0.3)\n",
        "　return subprocess.check_output([ExecPath+\"GetAccount.exe\",OrderNo]).decode(\"big5\").strip('\\r\\n').split(',')[0:2]\n",
        "\n",
        "#限價單委託\n",
        "def OrderLMT(Product,BS,Price,Qty):\n",
        "　OrderNo=subprocess.check_output([ExecPath+\"order.exe\",Product,BS,Price,Qty,\"LMT\",\n",
        "　　　　　　\"ROD\",\"0\"]).decode(\"big5\").strip('\\r\\n')\n",
        "　return OrderNo\n",
        "\n",
        "#查詢帳務明細\n",
        "def QueryOrder(OrderID):\n",
        "　ReturnInfo=subprocess.check_output([ExecPath+\"GetAccount.exe\",OrderID]).decode(\"big5\").strip('\\r\\n').split(',')\n",
        "　return ReturnInfo\n",
        "\n",
        "#查詢總帳務明細\n",
        "def QueryAllOrder():\n",
        "　ReturnInfo=subprocess.check_output([ExecPath+\"GetAccount.exe\",\"ALL\"]).decode(\"big5\").strip('\\r\\n').split('\\n')\n",
        "　ReturnInfo= [ line.split(',') for line in ReturnInfo]\n",
        "　return ReturnInfo\n",
        "\n",
        "#查詢未平倉資訊\n",
        "def QueryOnOpen():\n",
        "　ReturnInfo=subprocess.check_output([ExecPath+\"OnOpenInterest.exe\"]).decode(\"big5\").strip('\\r\\n')\n",
        "　return ReturnInfo.split(',')\n",
        "\n",
        "#查詢權益數資訊\n",
        "def QueryRight():\n",
        "　ReturnInfo=subprocess.check_output([ExecPath+\"FutureRights.exe\"]).decode(\"big5\").strip('\\r\\n')\n",
        "　return ReturnInfo.split(',')\n",
        "\n",
        "#取消委託\n",
        "def CancelOrder(OrderID):\n",
        "　ReturnInfo=subprocess.check_output([ExecPath+\"order.exe\",\"Delete\",OrderID]).decode(\"big5\")\n",
        "　if \"刪單已傳送\" in ReturnInfo:\n",
        "　　return True\n",
        "　else:\n",
        "　　return False\n",
        "\n",
        "#查看所有未取消委託\n",
        "def QueryAllUnfinished():\n",
        "　ReturnInfo = subprocess.check_output([ExecPath+'GetUnfinished.exe']).decode(\"big5\").strip('\\r\\n')\n",
        "　return ReturnInfo\n",
        "\n",
        "#取消所有委託\n",
        "def CancelAll():\n",
        "　ReturnInfo = subprocess.check_output([ExecPath+'CancelALL.exe']).decode(\"big5\").strip('\\r\\n')\n",
        "　return ReturnInfo\n",
        "\n",
        "#限價轉刪單\n",
        "def LMT2DEL(Product,BS,Price,Qty,Sec):\n",
        "　OrderID=OrderLMT(Product,BS,Price,Qty).decode(\"big5\")\n",
        "　StartTime=time.time()\n",
        "　while time.time()-StartTime<Sec:\n",
        "　　ReturnInfo=QueryOrder(OrderID)[1]\n",
        "　　if ReturnInfo == '全部成交':\n",
        "　　　return ReturnInfo\n",
        "　CancelOrder(OrderID)\n",
        "　return False\n",
        "\n",
        "#限價轉市價\n",
        "def LMT2MKT(Product,BS,Price,Qty,Sec):\n",
        "　OrderID=OrderLMT(Product,BS,Price,Qty)\n",
        "　StartTime=time.time()\n",
        "　while time.time()-StartTime<Sec:\n",
        "　　ReturnInfo=QueryOrder(OrderID)[1]\n",
        "　　if ReturnInfo == '全部成交':\n",
        "　　　return ReturnInfo\n",
        "　if CancelOrder(OrderID):\n",
        "　　ReturnInfo=OrderMKT(Product,BS,Qty)\n",
        "　　return ReturnInfo\n",
        "\n",
        "## 進場\n",
        "# 參數設定\n",
        "currDate = datetime.now().strftime('%Y-%m-%d')\n",
        "startTime = datetime.strptime(currDate +' '+ startTime,'%Y-%m-%d %H:%M:%S.%f')\n",
        "endTime = datetime.strptime(currDate +' '+ endTime,'%Y-%m-%d %H:%M:%S.%f')\n",
        "outTime = datetime.strptime(currDate +' '+ outTime,'%Y-%m-%d %H:%M:%S.%f')\n",
        "\n",
        "#### 定義變數 & 初始化 ####\n",
        "print(\"Initialize......\")\n",
        "Date=time.strftime(\"%Y%m%d\")\n",
        "code = \"TXF\b10\"\n",
        "TXF_MatchPrice = \"\"\n",
        "TXF_MatchTime = \"\"\n",
        "BPrice = \"\"\n",
        "SPrice = \"\"\n",
        "BTime = \"\"\n",
        "STime = \"\"\n",
        "\n",
        "BorS = ''\n",
        "position = 0\n",
        "TradingRecord = pd.DataFrame(columns=['BorS','OpenPrice','ClosePrice','OpenTime','CloseTime','Profit'])\n",
        "SingleRecord = pd.DataFrame(columns=['BorS','OpenPrice','ClosePrice','OpenTime','CloseTime','Profit'])\n",
        "profit = 0\n",
        "\n",
        "high = 0\n",
        "low = math.inf\n",
        "spread = 0\n",
        "\n",
        "#設定 單筆下單口數 & 最大在倉口數\n",
        "lot = 1\n",
        "Maxlot = 10\n",
        "\n",
        "for Mdata in getMatch(code):\n",
        "\n",
        "　　## 取得最新報價\n",
        "　　currDate = datetime.now().strftime('%Y-%m-%d')\n",
        "　　TXF_MatchTime = datetime.strptime(currDate + \" \" + Mdata.split(\",\")[1],\"%Y-%m-%d %H:%M:%S.%f\")\n",
        "　　TXF_MatchPrice = Mdata.split(\",\")[2]\n",
        "　　#print(TXF_MatchTime)\n",
        "　　#print(TXF_MatchPrice)\n",
        "\n",
        "　　## 買入\n",
        "　　if( startTime < TXF_MatchTime < endTime):\n",
        "　　　　if( action == 1 ):\n",
        "\n",
        "　　　　　　OrderMKT(code,\"B\",str(lot))\n",
        "　　　　　　BorS = \"B\"\n",
        "　　　　　　BPrice = TXF_MatchPrice\n",
        "　　　　　　BTime = TXF_MatchTime\n",
        "　　　　　　position = position + lot\n",
        "　　　　　　print(\"Buy \"+ code +\" | Buy Price: \"+ TXF_MatchPrice +\" | Time: \"+ datetime.now().strftime('%Y/%m/%d %H:%M:%S'))\n",
        "\n",
        "　　## 買出\n",
        "　　elif( ation == 2):\n",
        "\n",
        "　　　　　　OrderMKT(code,\"S\",str(lot))\n",
        "　　　　　　BorS = \"S\"\n",
        "　　　　　　SPrice = TXF_MatchPrice\n",
        "　　　　　　STime = TXF_MatchTime\n",
        "　　　　　　position = position - lot\n",
        "　　　　　　print(\"Sell \"+ code +\" | Sell Price: \"+ TXF_MatchPrice +\" | Time: \"+ datetime.now().strftime('%Y/%m/%d %H:%M:%S'))\n",
        "　　else:\n",
        "　　　　break\n",
        "　　## 最大口數限制\n",
        "　　if abs(position) >= Maxlot : break"
      ],
      "metadata": {
        "id": "0CQHzwm4ZJRr"
      }
    }
  ]
}