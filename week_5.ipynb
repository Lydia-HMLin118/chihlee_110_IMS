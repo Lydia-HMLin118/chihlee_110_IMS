{
  "nbformat": 4,
  "nbformat_minor": 0,
  "metadata": {
    "colab": {
      "name": "week_5.ipynb",
      "provenance": [],
      "authorship_tag": "ABX9TyOT5WdxJldsRx6STIUlqCnx",
      "include_colab_link": true
    },
    "kernelspec": {
      "name": "python3",
      "display_name": "Python 3"
    },
    "language_info": {
      "name": "python"
    }
  },
  "cells": [
    {
      "cell_type": "markdown",
      "metadata": {
        "id": "view-in-github",
        "colab_type": "text"
      },
      "source": [
        "<a href=\"https://colab.research.google.com/github/Lydia-HMLin118/chihlee_110_IMS/blob/main/week_5.ipynb\" target=\"_parent\"><img src=\"https://colab.research.google.com/assets/colab-badge.svg\" alt=\"Open In Colab\"/></a>"
      ]
    },
    {
      "cell_type": "markdown",
      "metadata": {
        "id": "xhBOzmxlhN8E"
      },
      "source": [
        "#基本變數的使用\n",
        "本技巧將依序介紹變數以及矩陣的相關函數的參數及範例介紹。\n",
        "\n",
        "\n",
        "#變數的指定－ ***=***\n",
        "\n",
        "Python與大多數程式語言相同，透過「=」來進行變數指令，由右邊的值指定至左方。舉例如下："
      ]
    },
    {
      "cell_type": "code",
      "metadata": {
        "colab": {
          "base_uri": "https://localhost:8080/"
        },
        "id": "sMu-_rCKhKhA",
        "outputId": "b55f72bb-7b48-4a53-d162-e8af69d95e7f"
      },
      "source": [
        "x = 1\n",
        "print (x)\n",
        "\n",
        "# 將tuple指定為x變數\n",
        "x = (1,2,3)\n",
        "print (x)\n",
        "\n",
        "# 將list指定為x變數\n",
        "x = [1,2,3]     \n",
        "print (x)"
      ],
      "execution_count": null,
      "outputs": [
        {
          "output_type": "stream",
          "name": "stdout",
          "text": [
            "1\n",
            "(1, 2, 3)\n",
            "[1, 2, 3]\n"
          ]
        }
      ]
    },
    {
      "cell_type": "markdown",
      "metadata": {
        "id": "YcNZKNF06eIF"
      },
      "source": [
        "# 顯示當前變數－dir、globals、locals\n",
        "\n",
        "Python透過dir能顯示變數、globals能顯示廣域變數、locals能顯示區域變數。操作如下："
      ]
    },
    {
      "cell_type": "code",
      "metadata": {
        "colab": {
          "base_uri": "https://localhost:8080/"
        },
        "id": "h2ojLcSh6iWm",
        "outputId": "bfb917da-04f9-45d8-e645-2fd690be74c4"
      },
      "source": [
        "x = [1, 2, 3]\n",
        "print (\"x =\", x)\n",
        "\n",
        "# delete 變數x後，由於無此變數，取用時會發生錯誤\n",
        "del x\n",
        "print (\"delete 變數x後\") \n",
        "# print (x)"
      ],
      "execution_count": null,
      "outputs": [
        {
          "output_type": "stream",
          "name": "stdout",
          "text": [
            "x = [1, 2, 3]\n",
            "delete 變數x後\n"
          ]
        }
      ]
    },
    {
      "cell_type": "markdown",
      "metadata": {
        "id": "gwLGTFKO7UCo"
      },
      "source": [
        "# 運算賦值－（+=、-=、*=、/=、//=、**=、%=）\n",
        "\n",
        "Python繼承了C語言的方式，也有了運算賦值的功能，可以有效的減少程式碼撰寫，以下將簡單的介紹如何使用。操作如下："
      ]
    },
    {
      "cell_type": "code",
      "metadata": {
        "colab": {
          "base_uri": "https://localhost:8080/"
        },
        "id": "580ZIhel7fDp",
        "outputId": "5fe4fbf6-26b0-440a-f783-52309b32899c"
      },
      "source": [
        "x=3\n",
        "print (x)\n",
        "\n",
        "# 等同於x=x+3\n",
        "x+=3\n",
        "print (\"x+=3, x=\", x)\n",
        "\n",
        "# 等同於x=x-3\n",
        "x-=3\n",
        "print (\"x-=3, x=\", x)\n",
        "\n",
        "# 等同於x=x*3\n",
        "x*=3\n",
        "print (\"x*=3, x=\", x)\n",
        "\n",
        "# 等同於x=x/3\n",
        "x/=3\n",
        "print (\"x/=3, x=\", x)\n",
        "\n",
        "# 平方的運算賦值, 等同於x=x**3\n",
        "x**=3\n",
        "print (\"x**=3, x=\", x)\n",
        "\n",
        "# 地板除法的運算賦值, 等同於x=x//3\n",
        "x//=3\n",
        "print (\"x//=3, x=\", x)\n",
        "\n",
        "\n",
        "\n"
      ],
      "execution_count": null,
      "outputs": [
        {
          "output_type": "stream",
          "name": "stdout",
          "text": [
            "3\n",
            "x+=3, x= 6\n",
            "x-=3, x= 3\n",
            "x*=3, x= 9\n",
            "x/=3, x= 3.0\n",
            "x**=3, x= 27.0\n",
            "x//=3, x= 9.0\n"
          ]
        }
      ]
    },
    {
      "cell_type": "markdown",
      "metadata": {
        "id": "VFRm7TfJ9bxo"
      },
      "source": [
        "# 查詢變數的型態－type\n",
        "\n",
        "在python中透過type函數能夠顯示出當前變數的型態，以下將常用的型態分別定義以及查詢，操作如下："
      ]
    },
    {
      "cell_type": "code",
      "metadata": {
        "colab": {
          "base_uri": "https://localhost:8080/"
        },
        "id": "moMIcgFn9eSD",
        "outputId": "8d513215-e51c-4115-d8ca-44253a01c77b"
      },
      "source": [
        "x=1\n",
        "print (type(x))\n",
        "\n",
        "x=1.0\n",
        "print (type(x))\n",
        "\n",
        "x=\"123\"\n",
        "print (type(x))\n",
        "\n",
        "x=[1,2,3]\n",
        "print (type(x))\n",
        "\n",
        "x=(1,2,3)\n",
        "print (type(x))\n",
        "\n",
        "x={}\n",
        "print (type(x))\n"
      ],
      "execution_count": null,
      "outputs": [
        {
          "output_type": "stream",
          "name": "stdout",
          "text": [
            "<class 'int'>\n",
            "<class 'float'>\n",
            "<class 'str'>\n",
            "<class 'list'>\n",
            "<class 'tuple'>\n",
            "<class 'dict'>\n"
          ]
        }
      ]
    },
    {
      "cell_type": "markdown",
      "metadata": {
        "id": "Yky1H5VO-oWK"
      },
      "source": [
        "# tuple、list與dictionary的應用\n",
        "\n",
        "## 在python中，**沒有矩陣matrix這種物件型態**，但是有**tuple、list與dictionary**這三種物件。\n",
        "\n",
        "其中tuple與list很相似，都是用來儲存資料的序列，也都支援多維的序列（矩陣），唯一不同之處就是 **tuple** 在定義完成後，是不被允許更動內部值的，而 **list** 可以被更改內部值；而 **dictionary** 是在物件中加上索引值。\n",
        "\n",
        "\n",
        "以下透過一段執行過程，來介紹tuple與list的差異。"
      ]
    },
    {
      "cell_type": "code",
      "metadata": {
        "colab": {
          "base_uri": "https://localhost:8080/"
        },
        "id": "_Bzb9oQx-wql",
        "outputId": "82dda702-16bb-419e-c47c-16e2ce57b30e"
      },
      "source": [
        "# list物件可以被修改值\n",
        "x=[1,2,3]\n",
        "print (x)\n",
        "x[2]=4        \n",
        "print (x)\n",
        "print (type(x))\n",
        "\n",
        "# tuple物件則無法被修改值, 'tuple' object does not support item assignment\n",
        "x=(1,2,3)\n",
        "print (x)\n",
        "print (type(x))\n",
        "#x[2]=4\n",
        "#print (x)\n"
      ],
      "execution_count": null,
      "outputs": [
        {
          "output_type": "stream",
          "name": "stdout",
          "text": [
            "[1, 2, 3]\n",
            "[1, 2, 4]\n",
            "<class 'list'>\n",
            "(1, 2, 3)\n",
            "<class 'tuple'>\n"
          ]
        }
      ]
    },
    {
      "cell_type": "markdown",
      "metadata": {
        "id": "_vtTGRzJ_cZX"
      },
      "source": [
        "# tuple\n",
        "## 定義tuple : tuple是用小括號來定義的物件。\n",
        "\n",
        "以下顯示操作範例："
      ]
    },
    {
      "cell_type": "code",
      "metadata": {
        "colab": {
          "base_uri": "https://localhost:8080/"
        },
        "id": "7ICMlvgk_vh1",
        "outputId": "753b2e2f-5cc1-43ee-b46c-64f7acdd854f"
      },
      "source": [
        "# 定義1維變數x1\n",
        "x1 = (1, 2, 3, 4, 5)\n",
        "print (\"x1 =\", x1)\n",
        "\n",
        "# 定義2維變數x2\n",
        "x2 = ((6, 7), (8, 9), (10, 11))\n",
        "print (\"x2 =\", x2)\n",
        "\n",
        "\n",
        "# python也可以在一行中定義多個變數 odd, even\n",
        "odd, even = (1,3,5,7,9), (2,4,6,8,10)\n",
        "print (\"odd =\", odd)\n",
        "print (\"even =\", even)\n",
        "\n",
        "# 透過del也可以刪除tuple\n",
        "del x1\n",
        "#print (x1)\n",
        "\n",
        "# tuple取值, python陣列物件中，開頭index都是由0開始計算\n",
        "print (\"x2[0] =\", x2[0])\n",
        "print (\"x2[0][0] =\", x2[0][0])\n",
        "\n"
      ],
      "execution_count": null,
      "outputs": [
        {
          "output_type": "stream",
          "name": "stdout",
          "text": [
            "x1 = (1, 2, 3, 4, 5)\n",
            "x2 = ((6, 7), (8, 9), (10, 11))\n",
            "odd = (1, 3, 5, 7, 9)\n",
            "even = (2, 4, 6, 8, 10)\n",
            "x2[0] = (6, 7)\n",
            "x2[0][0] = 6\n"
          ]
        }
      ]
    },
    {
      "cell_type": "markdown",
      "metadata": {
        "id": "rhv8tndSBt2m"
      },
      "source": [
        "## tuple計算\n",
        "\n",
        "這邊所指的tuple計算，是將tuple組合，或是進行複製，若要進行數值計算還是要取出tuple內的值才能進行計算. "
      ]
    },
    {
      "cell_type": "code",
      "metadata": {
        "colab": {
          "base_uri": "https://localhost:8080/"
        },
        "id": "TWBTVK3oBtTi",
        "outputId": "f64679f0-e4cb-4e4b-c7c1-6c46d294716c"
      },
      "source": [
        "x = (1, 3, 5, 7, 9)\n",
        "y = (2, 4, 6, 8, 10)\n",
        "\n",
        "# 兩個tuple組合\n",
        "print (\"x+y =\", x+y)\n",
        "\n",
        "# tuple倍數複製\n",
        "print (\"x*3 =\", x*3)\n",
        "\n",
        "# 函數應用: tuple的比較，會由tuple的第一個值來進行比較 True/False\n",
        "print (\"x < y is\", x < y)\n",
        "print (\"x[1] < y[0] is\", x[1] < y[0])\n",
        "\n",
        "# 判斷應用1: Tuple也可以直接用來進行max、min函數判斷\n",
        "print (\"max of x is\", max(x))\n",
        "print (\"min of x is\", min(x))\n",
        "\n",
        "# 判斷應用2: python中有提供in指令，來判斷該項目是否有在Tuple中\n",
        "\n",
        "print (\"3 in x is\", 3 in x)\n",
        "print (\"4 in x is\", 4 in x)\n",
        "\n",
        "# 迴圈應用: Python的tuple物件可以直接用來進行迴圈計算，使用者可以利用這項特性來進行撰寫程式碼\n",
        "for i in x :\n",
        "  print (i)\n"
      ],
      "execution_count": null,
      "outputs": [
        {
          "output_type": "stream",
          "name": "stdout",
          "text": [
            "x+y = (1, 3, 5, 7, 9, 2, 4, 6, 8, 10)\n",
            "x*3 = (1, 3, 5, 7, 9, 1, 3, 5, 7, 9, 1, 3, 5, 7, 9)\n",
            "x < y is True\n",
            "x[1] < y[0] is False\n",
            "max of x is 9\n",
            "min of x is 1\n",
            "3 in x is True\n",
            "4 in x is False\n",
            "1\n",
            "3\n",
            "5\n",
            "7\n",
            "9\n"
          ]
        }
      ]
    },
    {
      "cell_type": "markdown",
      "metadata": {
        "id": "r8V69RHpEAAz"
      },
      "source": [
        "# list\n",
        "\n",
        "##定義list: list是用中括號來定義的物件，以下顯示操作範例："
      ]
    },
    {
      "cell_type": "code",
      "metadata": {
        "colab": {
          "base_uri": "https://localhost:8080/"
        },
        "id": "WGR5uFD5EK5R",
        "outputId": "78df684e-f1a0-4999-b2b0-947c32efa31b"
      },
      "source": [
        "# 定義1維list變數a1\n",
        "a1 = [1, 2, 3, 4, 5]\n",
        "print (\"a1 =\", a1)\n",
        "\n",
        "# 定義2維list變數a2\n",
        "a2 = [[6, 7], [8, 9], [10, 11]]\n",
        "print (\"a2 =\", a2)\n",
        "\n",
        "\n",
        "# python也可以在一行中定義多個list的變數 odd, even\n",
        "odd, even = [1,3,5,7,9], [2,4,6,8,10]\n",
        "print (\"odd =\", odd)\n",
        "print (\"even =\", even)\n",
        "\n",
        "# 透過del也可以刪除list\n",
        "#del a1\n",
        "#print (a1)\n",
        "\n",
        "# list取值, python陣列物件中，開頭index都是由0開始計算\n",
        "print (\"a2[0] =\", a2[0])\n",
        "print (\"a2[:2] =\", a2[:2])\n",
        "print (\"a2[:2] =\", a2[:2])\n",
        "print (\"a2[0][0] =\", a2[0][0])\n",
        "\n",
        "\n",
        "# 兩個list組合\n",
        "print (\"a1+a2 =\", a1+a2)\n",
        "\n",
        "# list倍數複製\n",
        "print (\"a1*3 =\", a1*3)\n",
        "\n",
        "\n",
        "\n"
      ],
      "execution_count": null,
      "outputs": [
        {
          "output_type": "stream",
          "name": "stdout",
          "text": [
            "a1 = [1, 2, 3, 4, 5]\n",
            "a2 = [[6, 7], [8, 9], [10, 11]]\n",
            "odd = [1, 3, 5, 7, 9]\n",
            "even = [2, 4, 6, 8, 10]\n",
            "a2[0] = [6, 7]\n",
            "a2[:2] = [[6, 7], [8, 9]]\n",
            "a2[:2] = [[6, 7], [8, 9]]\n",
            "a2[0][0] = 6\n",
            "a1+a2 = [1, 2, 3, 4, 5, [6, 7], [8, 9], [10, 11]]\n",
            "a1*3 = [1, 2, 3, 4, 5, 1, 2, 3, 4, 5, 1, 2, 3, 4, 5]\n"
          ]
        }
      ]
    },
    {
      "cell_type": "markdown",
      "metadata": {
        "id": "FRFBfM0SQVLn"
      },
      "source": [
        "# list 函數應用\n",
        "\n",
        "由於List內部的元素是可以被更動的，因此就會有相對較多的函數可以使用，以下一一介紹：\n"
      ]
    },
    {
      "cell_type": "code",
      "metadata": {
        "colab": {
          "base_uri": "https://localhost:8080/"
        },
        "id": "s40g6LxJRp8N",
        "outputId": "1ce48fe5-9b99-4a4b-9a15-1a8ecb917504"
      },
      "source": [
        "# append 函數，附加值進入list中\n",
        "a1 = [1, 2, 3, 3, 4, 5]\n",
        "print (\"list a1 =\", a1)\n",
        "a1.append(100)\n",
        "print (\"a1.append(100) =\", a1)\n",
        "\n",
        "# count 函數，是計算開項目在list中有幾個\n",
        "print (\"在list a1中 1 有幾個 :\", a1.count(1))\n",
        "print (\"在list a1中 6 有幾個 :\", a1.count(6))\n",
        "print (\"在list a1中 3 有幾個 :\", a1.count(3))\n",
        "\n",
        " # extend 函數，可以將多個list彙整起來\n",
        "a1.extend([44, 66])\n",
        "print (\"extend a1 =\", a1)\n",
        "\n",
        "# index函數，可以得知特定項目在list當中的位置\n",
        "# 注意: python陣列物件中，開頭index都是由0開始計算\n",
        "print (\"index of 3 is\", a1.index(3))\n",
        "print (\"index of 100 is\", a1.index(100))\n",
        "\n",
        "# remove函數，可以刪除list裡面的特定項目\n",
        "b1 = [1, 2, 3, 3, 4, 5]\n",
        "print (\"list b1 =\", b1)\n",
        "b1.remove(4)\n",
        "print (\"After removing 4, list b1 is\", b1)\n",
        "\n",
        "# reverse函數，可以將整個list反轉\n",
        "b1 = [1, 2, 3, 3, 4, 5]\n",
        "print (\"list b1 =\", b1)\n",
        "b1.reverse()\n",
        "print (\"After reversing, list b1 is\", b1)\n",
        "\n",
        "# sort函數，可以將整個list依照大小排序\n",
        "b1 = [1, 4, 3, 3, 6, 2]\n",
        "print (\"list b1 =\", b1)\n",
        "b1.sort()\n",
        "print (\"After sorting, list b1 is\", b1)\n",
        "\n",
        "# 判斷應用1: list也可以直接用來進行max、min函數判斷\n",
        "print (\"max of b1 is\", max(b1))\n",
        "print (\"min of b1 is\", min(b1))\n",
        "\n",
        "# 判斷應用2: python中有提供in指令，來判斷該項目是否有在Tuple中\n",
        "\n",
        "print (\"3 in x is\", 3 in b1)\n",
        "print (\"40 in x is\", 40 in b1)\n",
        "\n",
        "# 迴圈應用: Python的tuple物件可以直接用來進行迴圈計算，使用者可以利用這項特性來進行撰寫程式碼\n",
        "for i in b1 :\n",
        "  print (i)"
      ],
      "execution_count": null,
      "outputs": [
        {
          "output_type": "stream",
          "name": "stdout",
          "text": [
            "list a1 = [1, 2, 3, 3, 4, 5]\n",
            "a1.append(100) = [1, 2, 3, 3, 4, 5, 100]\n",
            "在list a1中 1 有幾個 : 1\n",
            "在list a1中 6 有幾個 : 0\n",
            "在list a1中 3 有幾個 : 2\n",
            "extend a1 = [1, 2, 3, 3, 4, 5, 100, 44, 66]\n",
            "index of 3 is 2\n",
            "index of 100 is 6\n",
            "list b1 = [1, 2, 3, 3, 4, 5]\n",
            "After removing 4, list b1 is [1, 2, 3, 3, 5]\n",
            "list b1 = [1, 2, 3, 3, 4, 5]\n",
            "After reversing, list b1 is [5, 4, 3, 3, 2, 1]\n",
            "list b1 = [1, 4, 3, 3, 6, 2]\n",
            "After sorting, list b1 is [1, 2, 3, 3, 4, 6]\n",
            "max of b1 is 6\n",
            "min of b1 is 1\n",
            "3 in x is True\n",
            "40 in x is False\n",
            "1\n",
            "2\n",
            "3\n",
            "3\n",
            "4\n",
            "6\n"
          ]
        }
      ]
    },
    {
      "cell_type": "markdown",
      "metadata": {
        "id": "dDloMjbIVUbd"
      },
      "source": [
        "# dictionary 字典\n",
        "\n",
        "dictionary在每個值之前，都會加上索引，所以大多數動作都會透過索引來進行取值。\n",
        "\n",
        "## 定義dictionary : dictionary是用大括號來定義的物件"
      ]
    },
    {
      "cell_type": "code",
      "metadata": {
        "colab": {
          "base_uri": "https://localhost:8080/"
        },
        "id": "JgXQyVBkV0pf",
        "outputId": "8b963399-92c4-4884-cb62-4ce85ea356b8"
      },
      "source": [
        "x={'one':123,'two':345,'three':567}\n",
        "print (x)\n",
        "\n",
        "y={'d1':123,'d2':345,'d3':567}\n",
        "print (y)\n",
        "\n",
        "# del 也可以刪除delete dictionary\n",
        "#del d1\n",
        "#print (d1)\n",
        "\n",
        "# dictionary取值: 因應dictionary的架構，所以在取值時，只可以透過index存取值\n",
        "print (\"x['one'] is \", x['one'])\n",
        "\n",
        "# len 查看物件長度length，操作如下：\n",
        "print (\"The length of x is\", len(x))\n",
        "\n",
        "# copy 複製相同物件，操作如下：\n",
        "z = x.copy()\n",
        "print (\"z is copy from x :\", z)\n",
        "\n",
        "# clear 清除該物件，操作如下：\n",
        "z.clear()\n",
        "print (\"After clearing, z is :\", z)\n",
        "\n",
        "# items 函數，可以將dictionary {} --> 轉換為list []物件. \n",
        "dict2list = x.items()\n",
        "print (\"convert dict x {} to list []: \")\n",
        "print (\"x is\", x)\n",
        "print ( \"dict2list is\", dict2list)\n",
        "\n",
        "# keys 函數，可以取出dictionary內的所有key。\n",
        "print (\"keys in x is\", x.keys())\n"
      ],
      "execution_count": null,
      "outputs": [
        {
          "output_type": "stream",
          "name": "stdout",
          "text": [
            "{'one': 123, 'two': 345, 'three': 567}\n",
            "{'d1': 123, 'd2': 345, 'd3': 567}\n",
            "x['one'] is  123\n",
            "The length of x is 3\n",
            "z is copy from x : {'one': 123, 'two': 345, 'three': 567}\n",
            "After clearing, z is : {}\n",
            "convert dict x {} to list []: \n",
            "x is {'one': 123, 'two': 345, 'three': 567}\n",
            "dict2list is dict_items([('one', 123), ('two', 345), ('three', 567)])\n",
            "keys in x is dict_keys(['one', 'two', 'three'])\n"
          ]
        }
      ]
    }
  ]
}